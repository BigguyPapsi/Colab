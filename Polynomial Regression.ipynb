{
  "cells": [
    {
      "cell_type": "markdown",
      "metadata": {
        "id": "view-in-github",
        "colab_type": "text"
      },
      "source": [
        "<a href=\"https://colab.research.google.com/github/BigguyPapsi/Colab/blob/main/Polynomial%20Regression.ipynb\" target=\"_parent\"><img src=\"https://colab.research.google.com/assets/colab-badge.svg\" alt=\"Open In Colab\"/></a>"
      ]
    },
    {
      "cell_type": "markdown",
      "source": [
        "#  ຫົວຂໍ້ທີ່ 4 Polynomial Regression"
      ],
      "metadata": {
        "id": "cPkszaBNIlFS"
      }
    },
    {
      "cell_type": "markdown",
      "source": [
        "# 1 Import\n",
        "\n",
        "* imoprt : pandas ແລ້ວໃຫ້ເອີ່ນ pandas ວ່າ pd\n",
        "\n",
        "* pandas ໃຊ້ໃນການຈັດການຂໍ້ມູນຂະໜາດນ້ອຍຈົນໄປຮອດຂໍ້ມູນຂະໜາດໃຫຍ່\n",
        "\n",
        "* imoprt : numpy ແລ້ວໃຫ້ເອີ່ນ numpy ວ່າ np\n",
        "\n",
        "* numpy ແມ່ນ Libary ທີ່ໃຊ້ໃນການຄຳນວນທາງຄະນິດສາດຂອງພາສາ Python ໂດຍ numpy ສາມາດຈັດການ ອາເຣ (array) ຫຼາຍມິຕິໄດ້\n",
        "\n",
        "* imoprt : matplotlib.pyplot ແລ້ວໃຫ້ເອີ່ນ matplotlib.pyplot ວ່າ plt\n",
        "\n",
        "* matplotlib ແມ່ນ Module ພື້ນຖາມໃນການສ້າງກຣາຟ ໃນພາສາ python\n",
        "\n",
        "* imoprt : seaborn ແລ້ວໃຫ້ເອີ່ນ seaborn ວ່າ sns\n",
        "\n",
        "* seaborn ເປັນ libary ຂອງ matplotlib ທີ່ໃຊ້ໄວ້ແຈກແຈງໃຫ້ເຮົາເຫັນພາບຂໍ້ມູນທີ່ເປັນແບບ ສຸ່ມ\n",
        "\n",
        "* %matplotlib inline ແມ່ນຄຳສັ່ງອະນຸຍາດໃຫ້ເຮົາສະແດງກຣາຟ(graph) ໃນ Notebook ໄດ້\n",
        "\n",
        "* %config InlineBackend.figure_format='retina' ແມ່ນການຕັ້ງຄ່າການສະແດງຜົນຂອງກຣາຟ"
      ],
      "metadata": {
        "id": "fdh9icO8Hm7w"
      }
    },
    {
      "cell_type": "code",
      "source": [
        "import pandas as pd\n",
        "import numpy as np\n",
        "import matplotlib.pyplot as plt\n",
        "import seaborn as sns\n",
        "%matplotlib inline\n",
        "%config InlineBackend.figure_format='retina'"
      ],
      "metadata": {
        "id": "dWI6s5-ADCho"
      },
      "execution_count": 20,
      "outputs": []
    },
    {
      "cell_type": "markdown",
      "source": [
        "# 1.1 ບອກ version ຂອງ pandas, numpy, seaborn"
      ],
      "metadata": {
        "id": "bFYXUTlDJFzp"
      }
    },
    {
      "cell_type": "code",
      "source": [
        "print(f'pandas  version = {pd.__version__}')\n",
        "print(f'numpy   version = {np.__version__}')\n",
        "print(f'seaborn version = {sns.__version__}')\n",
        "print(pd.Timestamp.now())"
      ],
      "metadata": {
        "id": "6_C1mUA1DfGM",
        "outputId": "db8e15bd-a095-46c9-bbad-2113e74d8ceb",
        "colab": {
          "base_uri": "https://localhost:8080/"
        }
      },
      "execution_count": 21,
      "outputs": [
        {
          "output_type": "stream",
          "name": "stdout",
          "text": [
            "pandas  version = 1.3.5\n",
            "numpy   version = 1.21.6\n",
            "seaborn version = 0.11.2\n",
            "2023-01-20 16:23:17.586572\n"
          ]
        }
      ]
    },
    {
      "cell_type": "markdown",
      "source": [
        "# 1.2 ນຳຂໍ້ມູນເຂົ້າມາ ແລ້ວສະແດງອອກມາ 10 ອັນແບບສຸມ"
      ],
      "metadata": {
        "id": "fvDj2ZQKJaJQ"
      }
    },
    {
      "cell_type": "code",
      "source": [
        "url='https://github.com/prasertcbs/basic-dataset/raw/master/worldbank_gdp_gini_birth_death_suicide_rate.csv'\n",
        "data=pd.read_csv(url)\n",
        "data.sample(10)"
      ],
      "metadata": {
        "id": "reCvPUBuDLnv",
        "outputId": "018b053b-0c9a-4047-b807-c545ed3e7953",
        "colab": {
          "base_uri": "https://localhost:8080/",
          "height": 511
        }
      },
      "execution_count": 22,
      "outputs": [
        {
          "output_type": "execute_result",
          "data": {
            "text/plain": [
              "                         country  year  GDP, PPP (current international $)  \\\n",
              "7172                       Kenya  1993                        3.828867e+10   \n",
              "14220        Trinidad and Tobago  1961                                 NaN   \n",
              "13399         Sub-Saharan Africa  1966                                 NaN   \n",
              "10562   Northern Mariana Islands  1961                                 NaN   \n",
              "10482              North America  1999                        1.047680e+13   \n",
              "4949                       Gabon  2012                        2.686845e+10   \n",
              "1043                    Barbados  2000                        3.449581e+09   \n",
              "2320    Central African Republic  1979                                 NaN   \n",
              "2261              Cayman Islands  1979                                 NaN   \n",
              "12496  Sint Maarten (Dutch part)  2007                                 NaN   \n",
              "\n",
              "       Gini index (World Bank estimate)  Birth rate, crude (per 1,000 people)  \\\n",
              "7172                                NaN                             40.542000   \n",
              "14220                               NaN                             36.754000   \n",
              "13399                               NaN                             47.000184   \n",
              "10562                               NaN                                   NaN   \n",
              "10482                               NaN                             13.905263   \n",
              "4949                                NaN                             33.281000   \n",
              "1043                                NaN                             13.934000   \n",
              "2320                                NaN                             41.826000   \n",
              "2261                                NaN                                   NaN   \n",
              "12496                               NaN                             11.700000   \n",
              "\n",
              "       Death rate, crude (per 1,000 people)  \\\n",
              "7172                              10.899000   \n",
              "14220                              8.806000   \n",
              "13399                             21.822123   \n",
              "10562                                   NaN   \n",
              "10482                              8.462456   \n",
              "4949                               8.481000   \n",
              "1043                               7.553000   \n",
              "2320                              17.711000   \n",
              "2261                                    NaN   \n",
              "12496                              3.200000   \n",
              "\n",
              "       Suicide mortality rate (per 100,000 population)  \n",
              "7172                                               NaN  \n",
              "14220                                              NaN  \n",
              "13399                                              NaN  \n",
              "10562                                              NaN  \n",
              "10482                                              NaN  \n",
              "4949                                               NaN  \n",
              "1043                                               2.1  \n",
              "2320                                               NaN  \n",
              "2261                                               NaN  \n",
              "12496                                              NaN  "
            ],
            "text/html": [
              "\n",
              "  <div id=\"df-a68cd6be-1559-494d-8738-49fce14325f3\">\n",
              "    <div class=\"colab-df-container\">\n",
              "      <div>\n",
              "<style scoped>\n",
              "    .dataframe tbody tr th:only-of-type {\n",
              "        vertical-align: middle;\n",
              "    }\n",
              "\n",
              "    .dataframe tbody tr th {\n",
              "        vertical-align: top;\n",
              "    }\n",
              "\n",
              "    .dataframe thead th {\n",
              "        text-align: right;\n",
              "    }\n",
              "</style>\n",
              "<table border=\"1\" class=\"dataframe\">\n",
              "  <thead>\n",
              "    <tr style=\"text-align: right;\">\n",
              "      <th></th>\n",
              "      <th>country</th>\n",
              "      <th>year</th>\n",
              "      <th>GDP, PPP (current international $)</th>\n",
              "      <th>Gini index (World Bank estimate)</th>\n",
              "      <th>Birth rate, crude (per 1,000 people)</th>\n",
              "      <th>Death rate, crude (per 1,000 people)</th>\n",
              "      <th>Suicide mortality rate (per 100,000 population)</th>\n",
              "    </tr>\n",
              "  </thead>\n",
              "  <tbody>\n",
              "    <tr>\n",
              "      <th>7172</th>\n",
              "      <td>Kenya</td>\n",
              "      <td>1993</td>\n",
              "      <td>3.828867e+10</td>\n",
              "      <td>NaN</td>\n",
              "      <td>40.542000</td>\n",
              "      <td>10.899000</td>\n",
              "      <td>NaN</td>\n",
              "    </tr>\n",
              "    <tr>\n",
              "      <th>14220</th>\n",
              "      <td>Trinidad and Tobago</td>\n",
              "      <td>1961</td>\n",
              "      <td>NaN</td>\n",
              "      <td>NaN</td>\n",
              "      <td>36.754000</td>\n",
              "      <td>8.806000</td>\n",
              "      <td>NaN</td>\n",
              "    </tr>\n",
              "    <tr>\n",
              "      <th>13399</th>\n",
              "      <td>Sub-Saharan Africa</td>\n",
              "      <td>1966</td>\n",
              "      <td>NaN</td>\n",
              "      <td>NaN</td>\n",
              "      <td>47.000184</td>\n",
              "      <td>21.822123</td>\n",
              "      <td>NaN</td>\n",
              "    </tr>\n",
              "    <tr>\n",
              "      <th>10562</th>\n",
              "      <td>Northern Mariana Islands</td>\n",
              "      <td>1961</td>\n",
              "      <td>NaN</td>\n",
              "      <td>NaN</td>\n",
              "      <td>NaN</td>\n",
              "      <td>NaN</td>\n",
              "      <td>NaN</td>\n",
              "    </tr>\n",
              "    <tr>\n",
              "      <th>10482</th>\n",
              "      <td>North America</td>\n",
              "      <td>1999</td>\n",
              "      <td>1.047680e+13</td>\n",
              "      <td>NaN</td>\n",
              "      <td>13.905263</td>\n",
              "      <td>8.462456</td>\n",
              "      <td>NaN</td>\n",
              "    </tr>\n",
              "    <tr>\n",
              "      <th>4949</th>\n",
              "      <td>Gabon</td>\n",
              "      <td>2012</td>\n",
              "      <td>2.686845e+10</td>\n",
              "      <td>NaN</td>\n",
              "      <td>33.281000</td>\n",
              "      <td>8.481000</td>\n",
              "      <td>NaN</td>\n",
              "    </tr>\n",
              "    <tr>\n",
              "      <th>1043</th>\n",
              "      <td>Barbados</td>\n",
              "      <td>2000</td>\n",
              "      <td>3.449581e+09</td>\n",
              "      <td>NaN</td>\n",
              "      <td>13.934000</td>\n",
              "      <td>7.553000</td>\n",
              "      <td>2.1</td>\n",
              "    </tr>\n",
              "    <tr>\n",
              "      <th>2320</th>\n",
              "      <td>Central African Republic</td>\n",
              "      <td>1979</td>\n",
              "      <td>NaN</td>\n",
              "      <td>NaN</td>\n",
              "      <td>41.826000</td>\n",
              "      <td>17.711000</td>\n",
              "      <td>NaN</td>\n",
              "    </tr>\n",
              "    <tr>\n",
              "      <th>2261</th>\n",
              "      <td>Cayman Islands</td>\n",
              "      <td>1979</td>\n",
              "      <td>NaN</td>\n",
              "      <td>NaN</td>\n",
              "      <td>NaN</td>\n",
              "      <td>NaN</td>\n",
              "      <td>NaN</td>\n",
              "    </tr>\n",
              "    <tr>\n",
              "      <th>12496</th>\n",
              "      <td>Sint Maarten (Dutch part)</td>\n",
              "      <td>2007</td>\n",
              "      <td>NaN</td>\n",
              "      <td>NaN</td>\n",
              "      <td>11.700000</td>\n",
              "      <td>3.200000</td>\n",
              "      <td>NaN</td>\n",
              "    </tr>\n",
              "  </tbody>\n",
              "</table>\n",
              "</div>\n",
              "      <button class=\"colab-df-convert\" onclick=\"convertToInteractive('df-a68cd6be-1559-494d-8738-49fce14325f3')\"\n",
              "              title=\"Convert this dataframe to an interactive table.\"\n",
              "              style=\"display:none;\">\n",
              "        \n",
              "  <svg xmlns=\"http://www.w3.org/2000/svg\" height=\"24px\"viewBox=\"0 0 24 24\"\n",
              "       width=\"24px\">\n",
              "    <path d=\"M0 0h24v24H0V0z\" fill=\"none\"/>\n",
              "    <path d=\"M18.56 5.44l.94 2.06.94-2.06 2.06-.94-2.06-.94-.94-2.06-.94 2.06-2.06.94zm-11 1L8.5 8.5l.94-2.06 2.06-.94-2.06-.94L8.5 2.5l-.94 2.06-2.06.94zm10 10l.94 2.06.94-2.06 2.06-.94-2.06-.94-.94-2.06-.94 2.06-2.06.94z\"/><path d=\"M17.41 7.96l-1.37-1.37c-.4-.4-.92-.59-1.43-.59-.52 0-1.04.2-1.43.59L10.3 9.45l-7.72 7.72c-.78.78-.78 2.05 0 2.83L4 21.41c.39.39.9.59 1.41.59.51 0 1.02-.2 1.41-.59l7.78-7.78 2.81-2.81c.8-.78.8-2.07 0-2.86zM5.41 20L4 18.59l7.72-7.72 1.47 1.35L5.41 20z\"/>\n",
              "  </svg>\n",
              "      </button>\n",
              "      \n",
              "  <style>\n",
              "    .colab-df-container {\n",
              "      display:flex;\n",
              "      flex-wrap:wrap;\n",
              "      gap: 12px;\n",
              "    }\n",
              "\n",
              "    .colab-df-convert {\n",
              "      background-color: #E8F0FE;\n",
              "      border: none;\n",
              "      border-radius: 50%;\n",
              "      cursor: pointer;\n",
              "      display: none;\n",
              "      fill: #1967D2;\n",
              "      height: 32px;\n",
              "      padding: 0 0 0 0;\n",
              "      width: 32px;\n",
              "    }\n",
              "\n",
              "    .colab-df-convert:hover {\n",
              "      background-color: #E2EBFA;\n",
              "      box-shadow: 0px 1px 2px rgba(60, 64, 67, 0.3), 0px 1px 3px 1px rgba(60, 64, 67, 0.15);\n",
              "      fill: #174EA6;\n",
              "    }\n",
              "\n",
              "    [theme=dark] .colab-df-convert {\n",
              "      background-color: #3B4455;\n",
              "      fill: #D2E3FC;\n",
              "    }\n",
              "\n",
              "    [theme=dark] .colab-df-convert:hover {\n",
              "      background-color: #434B5C;\n",
              "      box-shadow: 0px 1px 3px 1px rgba(0, 0, 0, 0.15);\n",
              "      filter: drop-shadow(0px 1px 2px rgba(0, 0, 0, 0.3));\n",
              "      fill: #FFFFFF;\n",
              "    }\n",
              "  </style>\n",
              "\n",
              "      <script>\n",
              "        const buttonEl =\n",
              "          document.querySelector('#df-a68cd6be-1559-494d-8738-49fce14325f3 button.colab-df-convert');\n",
              "        buttonEl.style.display =\n",
              "          google.colab.kernel.accessAllowed ? 'block' : 'none';\n",
              "\n",
              "        async function convertToInteractive(key) {\n",
              "          const element = document.querySelector('#df-a68cd6be-1559-494d-8738-49fce14325f3');\n",
              "          const dataTable =\n",
              "            await google.colab.kernel.invokeFunction('convertToInteractive',\n",
              "                                                     [key], {});\n",
              "          if (!dataTable) return;\n",
              "\n",
              "          const docLinkHtml = 'Like what you see? Visit the ' +\n",
              "            '<a target=\"_blank\" href=https://colab.research.google.com/notebooks/data_table.ipynb>data table notebook</a>'\n",
              "            + ' to learn more about interactive tables.';\n",
              "          element.innerHTML = '';\n",
              "          dataTable['output_type'] = 'display_data';\n",
              "          await google.colab.output.renderOutput(dataTable, element);\n",
              "          const docLink = document.createElement('div');\n",
              "          docLink.innerHTML = docLinkHtml;\n",
              "          element.appendChild(docLink);\n",
              "        }\n",
              "      </script>\n",
              "    </div>\n",
              "  </div>\n",
              "  "
            ]
          },
          "metadata": {},
          "execution_count": 22
        }
      ]
    },
    {
      "cell_type": "markdown",
      "source": [
        "# 1.3 ເບິ່ງລາຍລະອຽດຂໍ້ມູນ"
      ],
      "metadata": {
        "id": "FfN6hSdFJpCV"
      }
    },
    {
      "cell_type": "code",
      "source": [
        "data.info()"
      ],
      "metadata": {
        "id": "E8oCMfxPDOgx",
        "outputId": "9e1b04c1-be77-42f3-86e5-c77c0ac60fe0",
        "colab": {
          "base_uri": "https://localhost:8080/"
        }
      },
      "execution_count": 23,
      "outputs": [
        {
          "output_type": "stream",
          "name": "stdout",
          "text": [
            "<class 'pandas.core.frame.DataFrame'>\n",
            "RangeIndex: 15576 entries, 0 to 15575\n",
            "Data columns (total 7 columns):\n",
            " #   Column                                           Non-Null Count  Dtype  \n",
            "---  ------                                           --------------  -----  \n",
            " 0   country                                          15576 non-null  object \n",
            " 1   year                                             15576 non-null  int64  \n",
            " 2   GDP, PPP (current international $)               6726 non-null   float64\n",
            " 3   Gini index (World Bank estimate)                 1649 non-null   float64\n",
            " 4   Birth rate, crude (per 1,000 people)             14515 non-null  float64\n",
            " 5   Death rate, crude (per 1,000 people)             14492 non-null  float64\n",
            " 6   Suicide mortality rate (per 100,000 population)  1145 non-null   float64\n",
            "dtypes: float64(5), int64(1), object(1)\n",
            "memory usage: 851.9+ KB\n"
          ]
        }
      ]
    },
    {
      "cell_type": "markdown",
      "source": [
        "# 2 filter and visualize country data"
      ],
      "metadata": {
        "id": "kvblemfHDoJl"
      }
    },
    {
      "cell_type": "markdown",
      "source": [
        "#2.1 "
      ],
      "metadata": {
        "id": "ozZn-nEXKDIs"
      }
    },
    {
      "cell_type": "code",
      "source": [
        "data[data['country'].str.contains('Thailand')][:3]"
      ],
      "metadata": {
        "id": "2VdL2bpNDcZH",
        "outputId": "59b92aac-2189-44c2-82ed-5d90a91116d4",
        "colab": {
          "base_uri": "https://localhost:8080/",
          "height": 204
        }
      },
      "execution_count": 24,
      "outputs": [
        {
          "output_type": "execute_result",
          "data": {
            "text/plain": [
              "        country  year  GDP, PPP (current international $)  \\\n",
              "13983  Thailand  1960                                 NaN   \n",
              "13984  Thailand  1961                                 NaN   \n",
              "13985  Thailand  1962                                 NaN   \n",
              "\n",
              "       Gini index (World Bank estimate)  Birth rate, crude (per 1,000 people)  \\\n",
              "13983                               NaN                                42.735   \n",
              "13984                               NaN                                42.617   \n",
              "13985                               NaN                                42.469   \n",
              "\n",
              "       Death rate, crude (per 1,000 people)  \\\n",
              "13983                                13.180   \n",
              "13984                                12.853   \n",
              "13985                                12.534   \n",
              "\n",
              "       Suicide mortality rate (per 100,000 population)  \n",
              "13983                                              NaN  \n",
              "13984                                              NaN  \n",
              "13985                                              NaN  "
            ],
            "text/html": [
              "\n",
              "  <div id=\"df-549fc956-dbb8-4125-832b-c1e1c55dc7c5\">\n",
              "    <div class=\"colab-df-container\">\n",
              "      <div>\n",
              "<style scoped>\n",
              "    .dataframe tbody tr th:only-of-type {\n",
              "        vertical-align: middle;\n",
              "    }\n",
              "\n",
              "    .dataframe tbody tr th {\n",
              "        vertical-align: top;\n",
              "    }\n",
              "\n",
              "    .dataframe thead th {\n",
              "        text-align: right;\n",
              "    }\n",
              "</style>\n",
              "<table border=\"1\" class=\"dataframe\">\n",
              "  <thead>\n",
              "    <tr style=\"text-align: right;\">\n",
              "      <th></th>\n",
              "      <th>country</th>\n",
              "      <th>year</th>\n",
              "      <th>GDP, PPP (current international $)</th>\n",
              "      <th>Gini index (World Bank estimate)</th>\n",
              "      <th>Birth rate, crude (per 1,000 people)</th>\n",
              "      <th>Death rate, crude (per 1,000 people)</th>\n",
              "      <th>Suicide mortality rate (per 100,000 population)</th>\n",
              "    </tr>\n",
              "  </thead>\n",
              "  <tbody>\n",
              "    <tr>\n",
              "      <th>13983</th>\n",
              "      <td>Thailand</td>\n",
              "      <td>1960</td>\n",
              "      <td>NaN</td>\n",
              "      <td>NaN</td>\n",
              "      <td>42.735</td>\n",
              "      <td>13.180</td>\n",
              "      <td>NaN</td>\n",
              "    </tr>\n",
              "    <tr>\n",
              "      <th>13984</th>\n",
              "      <td>Thailand</td>\n",
              "      <td>1961</td>\n",
              "      <td>NaN</td>\n",
              "      <td>NaN</td>\n",
              "      <td>42.617</td>\n",
              "      <td>12.853</td>\n",
              "      <td>NaN</td>\n",
              "    </tr>\n",
              "    <tr>\n",
              "      <th>13985</th>\n",
              "      <td>Thailand</td>\n",
              "      <td>1962</td>\n",
              "      <td>NaN</td>\n",
              "      <td>NaN</td>\n",
              "      <td>42.469</td>\n",
              "      <td>12.534</td>\n",
              "      <td>NaN</td>\n",
              "    </tr>\n",
              "  </tbody>\n",
              "</table>\n",
              "</div>\n",
              "      <button class=\"colab-df-convert\" onclick=\"convertToInteractive('df-549fc956-dbb8-4125-832b-c1e1c55dc7c5')\"\n",
              "              title=\"Convert this dataframe to an interactive table.\"\n",
              "              style=\"display:none;\">\n",
              "        \n",
              "  <svg xmlns=\"http://www.w3.org/2000/svg\" height=\"24px\"viewBox=\"0 0 24 24\"\n",
              "       width=\"24px\">\n",
              "    <path d=\"M0 0h24v24H0V0z\" fill=\"none\"/>\n",
              "    <path d=\"M18.56 5.44l.94 2.06.94-2.06 2.06-.94-2.06-.94-.94-2.06-.94 2.06-2.06.94zm-11 1L8.5 8.5l.94-2.06 2.06-.94-2.06-.94L8.5 2.5l-.94 2.06-2.06.94zm10 10l.94 2.06.94-2.06 2.06-.94-2.06-.94-.94-2.06-.94 2.06-2.06.94z\"/><path d=\"M17.41 7.96l-1.37-1.37c-.4-.4-.92-.59-1.43-.59-.52 0-1.04.2-1.43.59L10.3 9.45l-7.72 7.72c-.78.78-.78 2.05 0 2.83L4 21.41c.39.39.9.59 1.41.59.51 0 1.02-.2 1.41-.59l7.78-7.78 2.81-2.81c.8-.78.8-2.07 0-2.86zM5.41 20L4 18.59l7.72-7.72 1.47 1.35L5.41 20z\"/>\n",
              "  </svg>\n",
              "      </button>\n",
              "      \n",
              "  <style>\n",
              "    .colab-df-container {\n",
              "      display:flex;\n",
              "      flex-wrap:wrap;\n",
              "      gap: 12px;\n",
              "    }\n",
              "\n",
              "    .colab-df-convert {\n",
              "      background-color: #E8F0FE;\n",
              "      border: none;\n",
              "      border-radius: 50%;\n",
              "      cursor: pointer;\n",
              "      display: none;\n",
              "      fill: #1967D2;\n",
              "      height: 32px;\n",
              "      padding: 0 0 0 0;\n",
              "      width: 32px;\n",
              "    }\n",
              "\n",
              "    .colab-df-convert:hover {\n",
              "      background-color: #E2EBFA;\n",
              "      box-shadow: 0px 1px 2px rgba(60, 64, 67, 0.3), 0px 1px 3px 1px rgba(60, 64, 67, 0.15);\n",
              "      fill: #174EA6;\n",
              "    }\n",
              "\n",
              "    [theme=dark] .colab-df-convert {\n",
              "      background-color: #3B4455;\n",
              "      fill: #D2E3FC;\n",
              "    }\n",
              "\n",
              "    [theme=dark] .colab-df-convert:hover {\n",
              "      background-color: #434B5C;\n",
              "      box-shadow: 0px 1px 3px 1px rgba(0, 0, 0, 0.15);\n",
              "      filter: drop-shadow(0px 1px 2px rgba(0, 0, 0, 0.3));\n",
              "      fill: #FFFFFF;\n",
              "    }\n",
              "  </style>\n",
              "\n",
              "      <script>\n",
              "        const buttonEl =\n",
              "          document.querySelector('#df-549fc956-dbb8-4125-832b-c1e1c55dc7c5 button.colab-df-convert');\n",
              "        buttonEl.style.display =\n",
              "          google.colab.kernel.accessAllowed ? 'block' : 'none';\n",
              "\n",
              "        async function convertToInteractive(key) {\n",
              "          const element = document.querySelector('#df-549fc956-dbb8-4125-832b-c1e1c55dc7c5');\n",
              "          const dataTable =\n",
              "            await google.colab.kernel.invokeFunction('convertToInteractive',\n",
              "                                                     [key], {});\n",
              "          if (!dataTable) return;\n",
              "\n",
              "          const docLinkHtml = 'Like what you see? Visit the ' +\n",
              "            '<a target=\"_blank\" href=https://colab.research.google.com/notebooks/data_table.ipynb>data table notebook</a>'\n",
              "            + ' to learn more about interactive tables.';\n",
              "          element.innerHTML = '';\n",
              "          dataTable['output_type'] = 'display_data';\n",
              "          await google.colab.output.renderOutput(dataTable, element);\n",
              "          const docLink = document.createElement('div');\n",
              "          docLink.innerHTML = docLinkHtml;\n",
              "          element.appendChild(docLink);\n",
              "        }\n",
              "      </script>\n",
              "    </div>\n",
              "  </div>\n",
              "  "
            ]
          },
          "metadata": {},
          "execution_count": 24
        }
      ]
    },
    {
      "cell_type": "markdown",
      "source": [
        "# 2.2 ກອງຂໍ້ມູນ ເພື່ອນຳມາເຮັດການປະມ່ວນຜົນ\n",
        "\n",
        "* ກຳນົດໃຫ້\n",
        "\n",
        "x_col = 'year'\n",
        "\n",
        "y_col = 'Death rate, crude (per 1,000 people)'"
      ],
      "metadata": {
        "id": "EIQQtl-ZKudv"
      }
    },
    {
      "cell_type": "code",
      "source": [
        "x_col='year'\n",
        "y_col='Death rate, crude (per 1,000 people)'\n",
        "# y_col='Birth rate, crude (per 1,000 people)'\n",
        "country='Thailand'"
      ],
      "metadata": {
        "id": "E5kgIcpgDrj_"
      },
      "execution_count": 25,
      "outputs": []
    },
    {
      "cell_type": "markdown",
      "source": [
        "# 2.2 ສ້າງໂຕປ່ຽນ Dataframe ແລະ ສະແດງ Dataframe"
      ],
      "metadata": {
        "id": "dY8EfiTsLHwO"
      }
    },
    {
      "cell_type": "code",
      "source": [
        "df=data[data['country']==country].copy()\n",
        "df"
      ],
      "metadata": {
        "id": "vk7I_IkSDu27",
        "outputId": "bc6fabd2-0ce4-4b14-c36d-0f5c3f1e7776",
        "colab": {
          "base_uri": "https://localhost:8080/",
          "height": 1000
        }
      },
      "execution_count": 26,
      "outputs": [
        {
          "output_type": "execute_result",
          "data": {
            "text/plain": [
              "        country  year  GDP, PPP (current international $)  \\\n",
              "13983  Thailand  1960                                 NaN   \n",
              "13984  Thailand  1961                                 NaN   \n",
              "13985  Thailand  1962                                 NaN   \n",
              "13986  Thailand  1963                                 NaN   \n",
              "13987  Thailand  1964                                 NaN   \n",
              "13988  Thailand  1965                                 NaN   \n",
              "13989  Thailand  1966                                 NaN   \n",
              "13990  Thailand  1967                                 NaN   \n",
              "13991  Thailand  1968                                 NaN   \n",
              "13992  Thailand  1969                                 NaN   \n",
              "13993  Thailand  1970                                 NaN   \n",
              "13994  Thailand  1971                                 NaN   \n",
              "13995  Thailand  1972                                 NaN   \n",
              "13996  Thailand  1973                                 NaN   \n",
              "13997  Thailand  1974                                 NaN   \n",
              "13998  Thailand  1975                                 NaN   \n",
              "13999  Thailand  1976                                 NaN   \n",
              "14000  Thailand  1977                                 NaN   \n",
              "14001  Thailand  1978                                 NaN   \n",
              "14002  Thailand  1979                                 NaN   \n",
              "14003  Thailand  1980                                 NaN   \n",
              "14004  Thailand  1981                                 NaN   \n",
              "14005  Thailand  1982                                 NaN   \n",
              "14006  Thailand  1983                                 NaN   \n",
              "14007  Thailand  1984                                 NaN   \n",
              "14008  Thailand  1985                                 NaN   \n",
              "14009  Thailand  1986                                 NaN   \n",
              "14010  Thailand  1987                                 NaN   \n",
              "14011  Thailand  1988                                 NaN   \n",
              "14012  Thailand  1989                                 NaN   \n",
              "14013  Thailand  1990                        2.438602e+11   \n",
              "14014  Thailand  1991                        2.736830e+11   \n",
              "14015  Thailand  1992                        3.025470e+11   \n",
              "14016  Thailand  1993                        3.352726e+11   \n",
              "14017  Thailand  1994                        3.698163e+11   \n",
              "14018  Thailand  1995                        4.082306e+11   \n",
              "14019  Thailand  1996                        4.392009e+11   \n",
              "14020  Thailand  1997                        4.344722e+11   \n",
              "14021  Thailand  1998                        4.058212e+11   \n",
              "14022  Thailand  1999                        4.305037e+11   \n",
              "14023  Thailand  2000                        4.597363e+11   \n",
              "14024  Thailand  2001                        4.860021e+11   \n",
              "14025  Thailand  2002                        5.240466e+11   \n",
              "14026  Thailand  2003                        5.721533e+11   \n",
              "14027  Thailand  2004                        6.245103e+11   \n",
              "14028  Thailand  2005                        6.709303e+11   \n",
              "14029  Thailand  2006                        7.255733e+11   \n",
              "14030  Thailand  2007                        7.855596e+11   \n",
              "14031  Thailand  2008                        8.146598e+11   \n",
              "14032  Thailand  2009                        8.152013e+11   \n",
              "14033  Thailand  2010                        8.866634e+11   \n",
              "14034  Thailand  2011                        9.127897e+11   \n",
              "14035  Thailand  2012                        1.008787e+12   \n",
              "14036  Thailand  2013                        1.049948e+12   \n",
              "14037  Thailand  2014                        1.059446e+12   \n",
              "14038  Thailand  2015                        1.087225e+12   \n",
              "14039  Thailand  2016                        1.146218e+12   \n",
              "14040  Thailand  2017                        1.205675e+12   \n",
              "14041  Thailand  2018                        1.286309e+12   \n",
              "\n",
              "       Gini index (World Bank estimate)  Birth rate, crude (per 1,000 people)  \\\n",
              "13983                               NaN                                42.735   \n",
              "13984                               NaN                                42.617   \n",
              "13985                               NaN                                42.469   \n",
              "13986                               NaN                                42.283   \n",
              "13987                               NaN                                42.041   \n",
              "13988                               NaN                                41.708   \n",
              "13989                               NaN                                41.244   \n",
              "13990                               NaN                                40.625   \n",
              "13991                               NaN                                39.845   \n",
              "13992                               NaN                                38.912   \n",
              "13993                               NaN                                37.846   \n",
              "13994                               NaN                                36.675   \n",
              "13995                               NaN                                35.448   \n",
              "13996                               NaN                                34.208   \n",
              "13997                               NaN                                32.985   \n",
              "13998                               NaN                                31.798   \n",
              "13999                               NaN                                30.657   \n",
              "14000                               NaN                                29.552   \n",
              "14001                               NaN                                28.479   \n",
              "14002                               NaN                                27.444   \n",
              "14003                               NaN                                26.450   \n",
              "14004                              45.2                                25.500   \n",
              "14005                               NaN                                24.591   \n",
              "14006                               NaN                                23.723   \n",
              "14007                               NaN                                22.901   \n",
              "14008                               NaN                                22.133   \n",
              "14009                               NaN                                21.431   \n",
              "14010                               NaN                                20.794   \n",
              "14011                              43.8                                20.220   \n",
              "14012                               NaN                                19.701   \n",
              "14013                              45.3                                19.222   \n",
              "14014                               NaN                                18.766   \n",
              "14015                              47.9                                18.318   \n",
              "14016                               NaN                                17.863   \n",
              "14017                              43.5                                17.396   \n",
              "14018                               NaN                                16.913   \n",
              "14019                              42.9                                16.417   \n",
              "14020                               NaN                                15.920   \n",
              "14021                              41.5                                15.433   \n",
              "14022                              43.1                                14.965   \n",
              "14023                              42.8                                14.524   \n",
              "14024                               NaN                                14.118   \n",
              "14025                              41.9                                13.751   \n",
              "14026                               NaN                                13.423   \n",
              "14027                              42.5                                13.131   \n",
              "14028                               NaN                                12.870   \n",
              "14029                              41.8                                12.632   \n",
              "14030                              39.8                                12.407   \n",
              "14031                              40.3                                12.188   \n",
              "14032                              39.6                                11.971   \n",
              "14033                              39.4                                11.757   \n",
              "14034                              37.5                                11.548   \n",
              "14035                              39.3                                11.351   \n",
              "14036                              37.8                                11.169   \n",
              "14037                              37.0                                10.999   \n",
              "14038                              36.0                                10.836   \n",
              "14039                              36.9                                10.676   \n",
              "14040                              36.5                                10.513   \n",
              "14041                              36.4                                10.344   \n",
              "\n",
              "       Death rate, crude (per 1,000 people)  \\\n",
              "13983                                13.180   \n",
              "13984                                12.853   \n",
              "13985                                12.534   \n",
              "13986                                12.226   \n",
              "13987                                11.929   \n",
              "13988                                11.639   \n",
              "13989                                11.346   \n",
              "13990                                11.046   \n",
              "13991                                10.733   \n",
              "13992                                10.408   \n",
              "13993                                10.072   \n",
              "13994                                 9.730   \n",
              "13995                                 9.390   \n",
              "13996                                 9.059   \n",
              "13997                                 8.741   \n",
              "13998                                 8.443   \n",
              "13999                                 8.171   \n",
              "14000                                 7.924   \n",
              "14001                                 7.698   \n",
              "14002                                 7.490   \n",
              "14003                                 7.289   \n",
              "14004                                 7.080   \n",
              "14005                                 6.855   \n",
              "14006                                 6.615   \n",
              "14007                                 6.367   \n",
              "14008                                 6.129   \n",
              "14009                                 5.923   \n",
              "14010                                 5.770   \n",
              "14011                                 5.682   \n",
              "14012                                 5.663   \n",
              "14013                                 5.707   \n",
              "14014                                 5.804   \n",
              "14015                                 5.932   \n",
              "14016                                 6.071   \n",
              "14017                                 6.211   \n",
              "14018                                 6.344   \n",
              "14019                                 6.465   \n",
              "14020                                 6.580   \n",
              "14021                                 6.688   \n",
              "14022                                 6.788   \n",
              "14023                                 6.877   \n",
              "14024                                 6.951   \n",
              "14025                                 7.012   \n",
              "14026                                 7.060   \n",
              "14027                                 7.097   \n",
              "14028                                 7.123   \n",
              "14029                                 7.141   \n",
              "14030                                 7.154   \n",
              "14031                                 7.164   \n",
              "14032                                 7.175   \n",
              "14033                                 7.191   \n",
              "14034                                 7.213   \n",
              "14035                                 7.241   \n",
              "14036                                 7.279   \n",
              "14037                                 7.327   \n",
              "14038                                 7.389   \n",
              "14039                                 7.467   \n",
              "14040                                 7.559   \n",
              "14041                                 7.666   \n",
              "\n",
              "       Suicide mortality rate (per 100,000 population)  \n",
              "13983                                              NaN  \n",
              "13984                                              NaN  \n",
              "13985                                              NaN  \n",
              "13986                                              NaN  \n",
              "13987                                              NaN  \n",
              "13988                                              NaN  \n",
              "13989                                              NaN  \n",
              "13990                                              NaN  \n",
              "13991                                              NaN  \n",
              "13992                                              NaN  \n",
              "13993                                              NaN  \n",
              "13994                                              NaN  \n",
              "13995                                              NaN  \n",
              "13996                                              NaN  \n",
              "13997                                              NaN  \n",
              "13998                                              NaN  \n",
              "13999                                              NaN  \n",
              "14000                                              NaN  \n",
              "14001                                              NaN  \n",
              "14002                                              NaN  \n",
              "14003                                              NaN  \n",
              "14004                                              NaN  \n",
              "14005                                              NaN  \n",
              "14006                                              NaN  \n",
              "14007                                              NaN  \n",
              "14008                                              NaN  \n",
              "14009                                              NaN  \n",
              "14010                                              NaN  \n",
              "14011                                              NaN  \n",
              "14012                                              NaN  \n",
              "14013                                              NaN  \n",
              "14014                                              NaN  \n",
              "14015                                              NaN  \n",
              "14016                                              NaN  \n",
              "14017                                              NaN  \n",
              "14018                                              NaN  \n",
              "14019                                              NaN  \n",
              "14020                                              NaN  \n",
              "14021                                              NaN  \n",
              "14022                                              NaN  \n",
              "14023                                             16.2  \n",
              "14024                                              NaN  \n",
              "14025                                              NaN  \n",
              "14026                                              NaN  \n",
              "14027                                              NaN  \n",
              "14028                                             12.7  \n",
              "14029                                              NaN  \n",
              "14030                                              NaN  \n",
              "14031                                              NaN  \n",
              "14032                                              NaN  \n",
              "14033                                             14.3  \n",
              "14034                                              NaN  \n",
              "14035                                              NaN  \n",
              "14036                                              NaN  \n",
              "14037                                              NaN  \n",
              "14038                                             14.6  \n",
              "14039                                             14.4  \n",
              "14040                                              NaN  \n",
              "14041                                              NaN  "
            ],
            "text/html": [
              "\n",
              "  <div id=\"df-9ec4a4fc-3662-4fd1-9f37-41df3cc3cca3\">\n",
              "    <div class=\"colab-df-container\">\n",
              "      <div>\n",
              "<style scoped>\n",
              "    .dataframe tbody tr th:only-of-type {\n",
              "        vertical-align: middle;\n",
              "    }\n",
              "\n",
              "    .dataframe tbody tr th {\n",
              "        vertical-align: top;\n",
              "    }\n",
              "\n",
              "    .dataframe thead th {\n",
              "        text-align: right;\n",
              "    }\n",
              "</style>\n",
              "<table border=\"1\" class=\"dataframe\">\n",
              "  <thead>\n",
              "    <tr style=\"text-align: right;\">\n",
              "      <th></th>\n",
              "      <th>country</th>\n",
              "      <th>year</th>\n",
              "      <th>GDP, PPP (current international $)</th>\n",
              "      <th>Gini index (World Bank estimate)</th>\n",
              "      <th>Birth rate, crude (per 1,000 people)</th>\n",
              "      <th>Death rate, crude (per 1,000 people)</th>\n",
              "      <th>Suicide mortality rate (per 100,000 population)</th>\n",
              "    </tr>\n",
              "  </thead>\n",
              "  <tbody>\n",
              "    <tr>\n",
              "      <th>13983</th>\n",
              "      <td>Thailand</td>\n",
              "      <td>1960</td>\n",
              "      <td>NaN</td>\n",
              "      <td>NaN</td>\n",
              "      <td>42.735</td>\n",
              "      <td>13.180</td>\n",
              "      <td>NaN</td>\n",
              "    </tr>\n",
              "    <tr>\n",
              "      <th>13984</th>\n",
              "      <td>Thailand</td>\n",
              "      <td>1961</td>\n",
              "      <td>NaN</td>\n",
              "      <td>NaN</td>\n",
              "      <td>42.617</td>\n",
              "      <td>12.853</td>\n",
              "      <td>NaN</td>\n",
              "    </tr>\n",
              "    <tr>\n",
              "      <th>13985</th>\n",
              "      <td>Thailand</td>\n",
              "      <td>1962</td>\n",
              "      <td>NaN</td>\n",
              "      <td>NaN</td>\n",
              "      <td>42.469</td>\n",
              "      <td>12.534</td>\n",
              "      <td>NaN</td>\n",
              "    </tr>\n",
              "    <tr>\n",
              "      <th>13986</th>\n",
              "      <td>Thailand</td>\n",
              "      <td>1963</td>\n",
              "      <td>NaN</td>\n",
              "      <td>NaN</td>\n",
              "      <td>42.283</td>\n",
              "      <td>12.226</td>\n",
              "      <td>NaN</td>\n",
              "    </tr>\n",
              "    <tr>\n",
              "      <th>13987</th>\n",
              "      <td>Thailand</td>\n",
              "      <td>1964</td>\n",
              "      <td>NaN</td>\n",
              "      <td>NaN</td>\n",
              "      <td>42.041</td>\n",
              "      <td>11.929</td>\n",
              "      <td>NaN</td>\n",
              "    </tr>\n",
              "    <tr>\n",
              "      <th>13988</th>\n",
              "      <td>Thailand</td>\n",
              "      <td>1965</td>\n",
              "      <td>NaN</td>\n",
              "      <td>NaN</td>\n",
              "      <td>41.708</td>\n",
              "      <td>11.639</td>\n",
              "      <td>NaN</td>\n",
              "    </tr>\n",
              "    <tr>\n",
              "      <th>13989</th>\n",
              "      <td>Thailand</td>\n",
              "      <td>1966</td>\n",
              "      <td>NaN</td>\n",
              "      <td>NaN</td>\n",
              "      <td>41.244</td>\n",
              "      <td>11.346</td>\n",
              "      <td>NaN</td>\n",
              "    </tr>\n",
              "    <tr>\n",
              "      <th>13990</th>\n",
              "      <td>Thailand</td>\n",
              "      <td>1967</td>\n",
              "      <td>NaN</td>\n",
              "      <td>NaN</td>\n",
              "      <td>40.625</td>\n",
              "      <td>11.046</td>\n",
              "      <td>NaN</td>\n",
              "    </tr>\n",
              "    <tr>\n",
              "      <th>13991</th>\n",
              "      <td>Thailand</td>\n",
              "      <td>1968</td>\n",
              "      <td>NaN</td>\n",
              "      <td>NaN</td>\n",
              "      <td>39.845</td>\n",
              "      <td>10.733</td>\n",
              "      <td>NaN</td>\n",
              "    </tr>\n",
              "    <tr>\n",
              "      <th>13992</th>\n",
              "      <td>Thailand</td>\n",
              "      <td>1969</td>\n",
              "      <td>NaN</td>\n",
              "      <td>NaN</td>\n",
              "      <td>38.912</td>\n",
              "      <td>10.408</td>\n",
              "      <td>NaN</td>\n",
              "    </tr>\n",
              "    <tr>\n",
              "      <th>13993</th>\n",
              "      <td>Thailand</td>\n",
              "      <td>1970</td>\n",
              "      <td>NaN</td>\n",
              "      <td>NaN</td>\n",
              "      <td>37.846</td>\n",
              "      <td>10.072</td>\n",
              "      <td>NaN</td>\n",
              "    </tr>\n",
              "    <tr>\n",
              "      <th>13994</th>\n",
              "      <td>Thailand</td>\n",
              "      <td>1971</td>\n",
              "      <td>NaN</td>\n",
              "      <td>NaN</td>\n",
              "      <td>36.675</td>\n",
              "      <td>9.730</td>\n",
              "      <td>NaN</td>\n",
              "    </tr>\n",
              "    <tr>\n",
              "      <th>13995</th>\n",
              "      <td>Thailand</td>\n",
              "      <td>1972</td>\n",
              "      <td>NaN</td>\n",
              "      <td>NaN</td>\n",
              "      <td>35.448</td>\n",
              "      <td>9.390</td>\n",
              "      <td>NaN</td>\n",
              "    </tr>\n",
              "    <tr>\n",
              "      <th>13996</th>\n",
              "      <td>Thailand</td>\n",
              "      <td>1973</td>\n",
              "      <td>NaN</td>\n",
              "      <td>NaN</td>\n",
              "      <td>34.208</td>\n",
              "      <td>9.059</td>\n",
              "      <td>NaN</td>\n",
              "    </tr>\n",
              "    <tr>\n",
              "      <th>13997</th>\n",
              "      <td>Thailand</td>\n",
              "      <td>1974</td>\n",
              "      <td>NaN</td>\n",
              "      <td>NaN</td>\n",
              "      <td>32.985</td>\n",
              "      <td>8.741</td>\n",
              "      <td>NaN</td>\n",
              "    </tr>\n",
              "    <tr>\n",
              "      <th>13998</th>\n",
              "      <td>Thailand</td>\n",
              "      <td>1975</td>\n",
              "      <td>NaN</td>\n",
              "      <td>NaN</td>\n",
              "      <td>31.798</td>\n",
              "      <td>8.443</td>\n",
              "      <td>NaN</td>\n",
              "    </tr>\n",
              "    <tr>\n",
              "      <th>13999</th>\n",
              "      <td>Thailand</td>\n",
              "      <td>1976</td>\n",
              "      <td>NaN</td>\n",
              "      <td>NaN</td>\n",
              "      <td>30.657</td>\n",
              "      <td>8.171</td>\n",
              "      <td>NaN</td>\n",
              "    </tr>\n",
              "    <tr>\n",
              "      <th>14000</th>\n",
              "      <td>Thailand</td>\n",
              "      <td>1977</td>\n",
              "      <td>NaN</td>\n",
              "      <td>NaN</td>\n",
              "      <td>29.552</td>\n",
              "      <td>7.924</td>\n",
              "      <td>NaN</td>\n",
              "    </tr>\n",
              "    <tr>\n",
              "      <th>14001</th>\n",
              "      <td>Thailand</td>\n",
              "      <td>1978</td>\n",
              "      <td>NaN</td>\n",
              "      <td>NaN</td>\n",
              "      <td>28.479</td>\n",
              "      <td>7.698</td>\n",
              "      <td>NaN</td>\n",
              "    </tr>\n",
              "    <tr>\n",
              "      <th>14002</th>\n",
              "      <td>Thailand</td>\n",
              "      <td>1979</td>\n",
              "      <td>NaN</td>\n",
              "      <td>NaN</td>\n",
              "      <td>27.444</td>\n",
              "      <td>7.490</td>\n",
              "      <td>NaN</td>\n",
              "    </tr>\n",
              "    <tr>\n",
              "      <th>14003</th>\n",
              "      <td>Thailand</td>\n",
              "      <td>1980</td>\n",
              "      <td>NaN</td>\n",
              "      <td>NaN</td>\n",
              "      <td>26.450</td>\n",
              "      <td>7.289</td>\n",
              "      <td>NaN</td>\n",
              "    </tr>\n",
              "    <tr>\n",
              "      <th>14004</th>\n",
              "      <td>Thailand</td>\n",
              "      <td>1981</td>\n",
              "      <td>NaN</td>\n",
              "      <td>45.2</td>\n",
              "      <td>25.500</td>\n",
              "      <td>7.080</td>\n",
              "      <td>NaN</td>\n",
              "    </tr>\n",
              "    <tr>\n",
              "      <th>14005</th>\n",
              "      <td>Thailand</td>\n",
              "      <td>1982</td>\n",
              "      <td>NaN</td>\n",
              "      <td>NaN</td>\n",
              "      <td>24.591</td>\n",
              "      <td>6.855</td>\n",
              "      <td>NaN</td>\n",
              "    </tr>\n",
              "    <tr>\n",
              "      <th>14006</th>\n",
              "      <td>Thailand</td>\n",
              "      <td>1983</td>\n",
              "      <td>NaN</td>\n",
              "      <td>NaN</td>\n",
              "      <td>23.723</td>\n",
              "      <td>6.615</td>\n",
              "      <td>NaN</td>\n",
              "    </tr>\n",
              "    <tr>\n",
              "      <th>14007</th>\n",
              "      <td>Thailand</td>\n",
              "      <td>1984</td>\n",
              "      <td>NaN</td>\n",
              "      <td>NaN</td>\n",
              "      <td>22.901</td>\n",
              "      <td>6.367</td>\n",
              "      <td>NaN</td>\n",
              "    </tr>\n",
              "    <tr>\n",
              "      <th>14008</th>\n",
              "      <td>Thailand</td>\n",
              "      <td>1985</td>\n",
              "      <td>NaN</td>\n",
              "      <td>NaN</td>\n",
              "      <td>22.133</td>\n",
              "      <td>6.129</td>\n",
              "      <td>NaN</td>\n",
              "    </tr>\n",
              "    <tr>\n",
              "      <th>14009</th>\n",
              "      <td>Thailand</td>\n",
              "      <td>1986</td>\n",
              "      <td>NaN</td>\n",
              "      <td>NaN</td>\n",
              "      <td>21.431</td>\n",
              "      <td>5.923</td>\n",
              "      <td>NaN</td>\n",
              "    </tr>\n",
              "    <tr>\n",
              "      <th>14010</th>\n",
              "      <td>Thailand</td>\n",
              "      <td>1987</td>\n",
              "      <td>NaN</td>\n",
              "      <td>NaN</td>\n",
              "      <td>20.794</td>\n",
              "      <td>5.770</td>\n",
              "      <td>NaN</td>\n",
              "    </tr>\n",
              "    <tr>\n",
              "      <th>14011</th>\n",
              "      <td>Thailand</td>\n",
              "      <td>1988</td>\n",
              "      <td>NaN</td>\n",
              "      <td>43.8</td>\n",
              "      <td>20.220</td>\n",
              "      <td>5.682</td>\n",
              "      <td>NaN</td>\n",
              "    </tr>\n",
              "    <tr>\n",
              "      <th>14012</th>\n",
              "      <td>Thailand</td>\n",
              "      <td>1989</td>\n",
              "      <td>NaN</td>\n",
              "      <td>NaN</td>\n",
              "      <td>19.701</td>\n",
              "      <td>5.663</td>\n",
              "      <td>NaN</td>\n",
              "    </tr>\n",
              "    <tr>\n",
              "      <th>14013</th>\n",
              "      <td>Thailand</td>\n",
              "      <td>1990</td>\n",
              "      <td>2.438602e+11</td>\n",
              "      <td>45.3</td>\n",
              "      <td>19.222</td>\n",
              "      <td>5.707</td>\n",
              "      <td>NaN</td>\n",
              "    </tr>\n",
              "    <tr>\n",
              "      <th>14014</th>\n",
              "      <td>Thailand</td>\n",
              "      <td>1991</td>\n",
              "      <td>2.736830e+11</td>\n",
              "      <td>NaN</td>\n",
              "      <td>18.766</td>\n",
              "      <td>5.804</td>\n",
              "      <td>NaN</td>\n",
              "    </tr>\n",
              "    <tr>\n",
              "      <th>14015</th>\n",
              "      <td>Thailand</td>\n",
              "      <td>1992</td>\n",
              "      <td>3.025470e+11</td>\n",
              "      <td>47.9</td>\n",
              "      <td>18.318</td>\n",
              "      <td>5.932</td>\n",
              "      <td>NaN</td>\n",
              "    </tr>\n",
              "    <tr>\n",
              "      <th>14016</th>\n",
              "      <td>Thailand</td>\n",
              "      <td>1993</td>\n",
              "      <td>3.352726e+11</td>\n",
              "      <td>NaN</td>\n",
              "      <td>17.863</td>\n",
              "      <td>6.071</td>\n",
              "      <td>NaN</td>\n",
              "    </tr>\n",
              "    <tr>\n",
              "      <th>14017</th>\n",
              "      <td>Thailand</td>\n",
              "      <td>1994</td>\n",
              "      <td>3.698163e+11</td>\n",
              "      <td>43.5</td>\n",
              "      <td>17.396</td>\n",
              "      <td>6.211</td>\n",
              "      <td>NaN</td>\n",
              "    </tr>\n",
              "    <tr>\n",
              "      <th>14018</th>\n",
              "      <td>Thailand</td>\n",
              "      <td>1995</td>\n",
              "      <td>4.082306e+11</td>\n",
              "      <td>NaN</td>\n",
              "      <td>16.913</td>\n",
              "      <td>6.344</td>\n",
              "      <td>NaN</td>\n",
              "    </tr>\n",
              "    <tr>\n",
              "      <th>14019</th>\n",
              "      <td>Thailand</td>\n",
              "      <td>1996</td>\n",
              "      <td>4.392009e+11</td>\n",
              "      <td>42.9</td>\n",
              "      <td>16.417</td>\n",
              "      <td>6.465</td>\n",
              "      <td>NaN</td>\n",
              "    </tr>\n",
              "    <tr>\n",
              "      <th>14020</th>\n",
              "      <td>Thailand</td>\n",
              "      <td>1997</td>\n",
              "      <td>4.344722e+11</td>\n",
              "      <td>NaN</td>\n",
              "      <td>15.920</td>\n",
              "      <td>6.580</td>\n",
              "      <td>NaN</td>\n",
              "    </tr>\n",
              "    <tr>\n",
              "      <th>14021</th>\n",
              "      <td>Thailand</td>\n",
              "      <td>1998</td>\n",
              "      <td>4.058212e+11</td>\n",
              "      <td>41.5</td>\n",
              "      <td>15.433</td>\n",
              "      <td>6.688</td>\n",
              "      <td>NaN</td>\n",
              "    </tr>\n",
              "    <tr>\n",
              "      <th>14022</th>\n",
              "      <td>Thailand</td>\n",
              "      <td>1999</td>\n",
              "      <td>4.305037e+11</td>\n",
              "      <td>43.1</td>\n",
              "      <td>14.965</td>\n",
              "      <td>6.788</td>\n",
              "      <td>NaN</td>\n",
              "    </tr>\n",
              "    <tr>\n",
              "      <th>14023</th>\n",
              "      <td>Thailand</td>\n",
              "      <td>2000</td>\n",
              "      <td>4.597363e+11</td>\n",
              "      <td>42.8</td>\n",
              "      <td>14.524</td>\n",
              "      <td>6.877</td>\n",
              "      <td>16.2</td>\n",
              "    </tr>\n",
              "    <tr>\n",
              "      <th>14024</th>\n",
              "      <td>Thailand</td>\n",
              "      <td>2001</td>\n",
              "      <td>4.860021e+11</td>\n",
              "      <td>NaN</td>\n",
              "      <td>14.118</td>\n",
              "      <td>6.951</td>\n",
              "      <td>NaN</td>\n",
              "    </tr>\n",
              "    <tr>\n",
              "      <th>14025</th>\n",
              "      <td>Thailand</td>\n",
              "      <td>2002</td>\n",
              "      <td>5.240466e+11</td>\n",
              "      <td>41.9</td>\n",
              "      <td>13.751</td>\n",
              "      <td>7.012</td>\n",
              "      <td>NaN</td>\n",
              "    </tr>\n",
              "    <tr>\n",
              "      <th>14026</th>\n",
              "      <td>Thailand</td>\n",
              "      <td>2003</td>\n",
              "      <td>5.721533e+11</td>\n",
              "      <td>NaN</td>\n",
              "      <td>13.423</td>\n",
              "      <td>7.060</td>\n",
              "      <td>NaN</td>\n",
              "    </tr>\n",
              "    <tr>\n",
              "      <th>14027</th>\n",
              "      <td>Thailand</td>\n",
              "      <td>2004</td>\n",
              "      <td>6.245103e+11</td>\n",
              "      <td>42.5</td>\n",
              "      <td>13.131</td>\n",
              "      <td>7.097</td>\n",
              "      <td>NaN</td>\n",
              "    </tr>\n",
              "    <tr>\n",
              "      <th>14028</th>\n",
              "      <td>Thailand</td>\n",
              "      <td>2005</td>\n",
              "      <td>6.709303e+11</td>\n",
              "      <td>NaN</td>\n",
              "      <td>12.870</td>\n",
              "      <td>7.123</td>\n",
              "      <td>12.7</td>\n",
              "    </tr>\n",
              "    <tr>\n",
              "      <th>14029</th>\n",
              "      <td>Thailand</td>\n",
              "      <td>2006</td>\n",
              "      <td>7.255733e+11</td>\n",
              "      <td>41.8</td>\n",
              "      <td>12.632</td>\n",
              "      <td>7.141</td>\n",
              "      <td>NaN</td>\n",
              "    </tr>\n",
              "    <tr>\n",
              "      <th>14030</th>\n",
              "      <td>Thailand</td>\n",
              "      <td>2007</td>\n",
              "      <td>7.855596e+11</td>\n",
              "      <td>39.8</td>\n",
              "      <td>12.407</td>\n",
              "      <td>7.154</td>\n",
              "      <td>NaN</td>\n",
              "    </tr>\n",
              "    <tr>\n",
              "      <th>14031</th>\n",
              "      <td>Thailand</td>\n",
              "      <td>2008</td>\n",
              "      <td>8.146598e+11</td>\n",
              "      <td>40.3</td>\n",
              "      <td>12.188</td>\n",
              "      <td>7.164</td>\n",
              "      <td>NaN</td>\n",
              "    </tr>\n",
              "    <tr>\n",
              "      <th>14032</th>\n",
              "      <td>Thailand</td>\n",
              "      <td>2009</td>\n",
              "      <td>8.152013e+11</td>\n",
              "      <td>39.6</td>\n",
              "      <td>11.971</td>\n",
              "      <td>7.175</td>\n",
              "      <td>NaN</td>\n",
              "    </tr>\n",
              "    <tr>\n",
              "      <th>14033</th>\n",
              "      <td>Thailand</td>\n",
              "      <td>2010</td>\n",
              "      <td>8.866634e+11</td>\n",
              "      <td>39.4</td>\n",
              "      <td>11.757</td>\n",
              "      <td>7.191</td>\n",
              "      <td>14.3</td>\n",
              "    </tr>\n",
              "    <tr>\n",
              "      <th>14034</th>\n",
              "      <td>Thailand</td>\n",
              "      <td>2011</td>\n",
              "      <td>9.127897e+11</td>\n",
              "      <td>37.5</td>\n",
              "      <td>11.548</td>\n",
              "      <td>7.213</td>\n",
              "      <td>NaN</td>\n",
              "    </tr>\n",
              "    <tr>\n",
              "      <th>14035</th>\n",
              "      <td>Thailand</td>\n",
              "      <td>2012</td>\n",
              "      <td>1.008787e+12</td>\n",
              "      <td>39.3</td>\n",
              "      <td>11.351</td>\n",
              "      <td>7.241</td>\n",
              "      <td>NaN</td>\n",
              "    </tr>\n",
              "    <tr>\n",
              "      <th>14036</th>\n",
              "      <td>Thailand</td>\n",
              "      <td>2013</td>\n",
              "      <td>1.049948e+12</td>\n",
              "      <td>37.8</td>\n",
              "      <td>11.169</td>\n",
              "      <td>7.279</td>\n",
              "      <td>NaN</td>\n",
              "    </tr>\n",
              "    <tr>\n",
              "      <th>14037</th>\n",
              "      <td>Thailand</td>\n",
              "      <td>2014</td>\n",
              "      <td>1.059446e+12</td>\n",
              "      <td>37.0</td>\n",
              "      <td>10.999</td>\n",
              "      <td>7.327</td>\n",
              "      <td>NaN</td>\n",
              "    </tr>\n",
              "    <tr>\n",
              "      <th>14038</th>\n",
              "      <td>Thailand</td>\n",
              "      <td>2015</td>\n",
              "      <td>1.087225e+12</td>\n",
              "      <td>36.0</td>\n",
              "      <td>10.836</td>\n",
              "      <td>7.389</td>\n",
              "      <td>14.6</td>\n",
              "    </tr>\n",
              "    <tr>\n",
              "      <th>14039</th>\n",
              "      <td>Thailand</td>\n",
              "      <td>2016</td>\n",
              "      <td>1.146218e+12</td>\n",
              "      <td>36.9</td>\n",
              "      <td>10.676</td>\n",
              "      <td>7.467</td>\n",
              "      <td>14.4</td>\n",
              "    </tr>\n",
              "    <tr>\n",
              "      <th>14040</th>\n",
              "      <td>Thailand</td>\n",
              "      <td>2017</td>\n",
              "      <td>1.205675e+12</td>\n",
              "      <td>36.5</td>\n",
              "      <td>10.513</td>\n",
              "      <td>7.559</td>\n",
              "      <td>NaN</td>\n",
              "    </tr>\n",
              "    <tr>\n",
              "      <th>14041</th>\n",
              "      <td>Thailand</td>\n",
              "      <td>2018</td>\n",
              "      <td>1.286309e+12</td>\n",
              "      <td>36.4</td>\n",
              "      <td>10.344</td>\n",
              "      <td>7.666</td>\n",
              "      <td>NaN</td>\n",
              "    </tr>\n",
              "  </tbody>\n",
              "</table>\n",
              "</div>\n",
              "      <button class=\"colab-df-convert\" onclick=\"convertToInteractive('df-9ec4a4fc-3662-4fd1-9f37-41df3cc3cca3')\"\n",
              "              title=\"Convert this dataframe to an interactive table.\"\n",
              "              style=\"display:none;\">\n",
              "        \n",
              "  <svg xmlns=\"http://www.w3.org/2000/svg\" height=\"24px\"viewBox=\"0 0 24 24\"\n",
              "       width=\"24px\">\n",
              "    <path d=\"M0 0h24v24H0V0z\" fill=\"none\"/>\n",
              "    <path d=\"M18.56 5.44l.94 2.06.94-2.06 2.06-.94-2.06-.94-.94-2.06-.94 2.06-2.06.94zm-11 1L8.5 8.5l.94-2.06 2.06-.94-2.06-.94L8.5 2.5l-.94 2.06-2.06.94zm10 10l.94 2.06.94-2.06 2.06-.94-2.06-.94-.94-2.06-.94 2.06-2.06.94z\"/><path d=\"M17.41 7.96l-1.37-1.37c-.4-.4-.92-.59-1.43-.59-.52 0-1.04.2-1.43.59L10.3 9.45l-7.72 7.72c-.78.78-.78 2.05 0 2.83L4 21.41c.39.39.9.59 1.41.59.51 0 1.02-.2 1.41-.59l7.78-7.78 2.81-2.81c.8-.78.8-2.07 0-2.86zM5.41 20L4 18.59l7.72-7.72 1.47 1.35L5.41 20z\"/>\n",
              "  </svg>\n",
              "      </button>\n",
              "      \n",
              "  <style>\n",
              "    .colab-df-container {\n",
              "      display:flex;\n",
              "      flex-wrap:wrap;\n",
              "      gap: 12px;\n",
              "    }\n",
              "\n",
              "    .colab-df-convert {\n",
              "      background-color: #E8F0FE;\n",
              "      border: none;\n",
              "      border-radius: 50%;\n",
              "      cursor: pointer;\n",
              "      display: none;\n",
              "      fill: #1967D2;\n",
              "      height: 32px;\n",
              "      padding: 0 0 0 0;\n",
              "      width: 32px;\n",
              "    }\n",
              "\n",
              "    .colab-df-convert:hover {\n",
              "      background-color: #E2EBFA;\n",
              "      box-shadow: 0px 1px 2px rgba(60, 64, 67, 0.3), 0px 1px 3px 1px rgba(60, 64, 67, 0.15);\n",
              "      fill: #174EA6;\n",
              "    }\n",
              "\n",
              "    [theme=dark] .colab-df-convert {\n",
              "      background-color: #3B4455;\n",
              "      fill: #D2E3FC;\n",
              "    }\n",
              "\n",
              "    [theme=dark] .colab-df-convert:hover {\n",
              "      background-color: #434B5C;\n",
              "      box-shadow: 0px 1px 3px 1px rgba(0, 0, 0, 0.15);\n",
              "      filter: drop-shadow(0px 1px 2px rgba(0, 0, 0, 0.3));\n",
              "      fill: #FFFFFF;\n",
              "    }\n",
              "  </style>\n",
              "\n",
              "      <script>\n",
              "        const buttonEl =\n",
              "          document.querySelector('#df-9ec4a4fc-3662-4fd1-9f37-41df3cc3cca3 button.colab-df-convert');\n",
              "        buttonEl.style.display =\n",
              "          google.colab.kernel.accessAllowed ? 'block' : 'none';\n",
              "\n",
              "        async function convertToInteractive(key) {\n",
              "          const element = document.querySelector('#df-9ec4a4fc-3662-4fd1-9f37-41df3cc3cca3');\n",
              "          const dataTable =\n",
              "            await google.colab.kernel.invokeFunction('convertToInteractive',\n",
              "                                                     [key], {});\n",
              "          if (!dataTable) return;\n",
              "\n",
              "          const docLinkHtml = 'Like what you see? Visit the ' +\n",
              "            '<a target=\"_blank\" href=https://colab.research.google.com/notebooks/data_table.ipynb>data table notebook</a>'\n",
              "            + ' to learn more about interactive tables.';\n",
              "          element.innerHTML = '';\n",
              "          dataTable['output_type'] = 'display_data';\n",
              "          await google.colab.output.renderOutput(dataTable, element);\n",
              "          const docLink = document.createElement('div');\n",
              "          docLink.innerHTML = docLinkHtml;\n",
              "          element.appendChild(docLink);\n",
              "        }\n",
              "      </script>\n",
              "    </div>\n",
              "  </div>\n",
              "  "
            ]
          },
          "metadata": {},
          "execution_count": 26
        }
      ]
    },
    {
      "cell_type": "markdown",
      "source": [
        "# 2.3 ນຳໃຊ້ Seaborn ມາສະແດງກຣາຟເບິ່ງອັດຕາການເສຍຊີວິດປະຊາກອນໄທທີ່ຜ່ານມາ\n",
        "\n",
        "ຈາກການສັງເກດກຣາຟ ຖ້າເຮົາໃຊ້ຮູບແບບ Linear ຫຼື ເສັ້ນສີແດງ ການສະແດງຜົນມັນຈະຜິດທັນທີ່"
      ],
      "metadata": {
        "id": "D4nNrjBFLgec"
      }
    },
    {
      "cell_type": "code",
      "source": [
        "sns.lmplot(x=x_col, y=y_col, data=df, fit_reg=True, \n",
        "           scatter_kws={'alpha': .2, 'color': 'green'},\n",
        "           line_kws={'color': 'salmon'});"
      ],
      "metadata": {
        "id": "jel62cIRDwhE",
        "outputId": "7c068823-dfca-40d3-e4ca-963fe49c24b0",
        "colab": {
          "base_uri": "https://localhost:8080/",
          "height": 368
        }
      },
      "execution_count": 27,
      "outputs": [
        {
          "output_type": "display_data",
          "data": {
            "text/plain": [
              "<Figure size 360x360 with 1 Axes>"
            ],
            "image/png": "[encoded data removed]"
          },
          "metadata": {
            "image/png": {
              "width": 352,
              "height": 351
            },
            "needs_background": "light"
          }
        }
      ]
    },
    {
      "cell_type": "markdown",
      "source": [
        "# 3 scikit-learn"
      ],
      "metadata": {
        "id": "1q6sfDBQD1CB"
      }
    },
    {
      "cell_type": "markdown",
      "source": [
        "* import sklearn\n",
        "* import train_test_split\n",
        "* import PolynomialFeatures\n",
        "* import LinearRegression"
      ],
      "metadata": {
        "id": "V4F3tiIwMtOn"
      }
    },
    {
      "cell_type": "code",
      "source": [
        "import sklearn as sk\n",
        "from sklearn.model_selection import train_test_split\n",
        "from sklearn.preprocessing import PolynomialFeatures\n",
        "from sklearn.linear_model import LinearRegression"
      ],
      "metadata": {
        "id": "_IqCF3HwD4Me"
      },
      "execution_count": 28,
      "outputs": []
    },
    {
      "cell_type": "markdown",
      "source": [
        "#3.1 ກວດເບິ່ງ Version ຂອງ sklearn"
      ],
      "metadata": {
        "id": "XSpA4WHBNHQa"
      }
    },
    {
      "cell_type": "code",
      "source": [
        "print(f'sklearn  version = {sk.__version__}')"
      ],
      "metadata": {
        "id": "a6R7L4ReD47_",
        "outputId": "cb661786-6c09-4f32-9b02-9f0d88cab159",
        "colab": {
          "base_uri": "https://localhost:8080/"
        }
      },
      "execution_count": 29,
      "outputs": [
        {
          "output_type": "stream",
          "name": "stdout",
          "text": [
            "sklearn  version = 1.0.2\n"
          ]
        }
      ]
    },
    {
      "cell_type": "markdown",
      "source": [
        "#3.2 ສ້າງໂຕປ່ຽນ\n",
        "\n",
        "X = x_col\n",
        "\n",
        "\n",
        "y = y_col"
      ],
      "metadata": {
        "id": "W6dYh3w-NU5C"
      }
    },
    {
      "cell_type": "code",
      "source": [
        "X=df[[x_col]]\n",
        "y=df[y_col]"
      ],
      "metadata": {
        "id": "aByajq1zD6io"
      },
      "execution_count": 30,
      "outputs": []
    },
    {
      "cell_type": "markdown",
      "source": [
        "# 3.3 ສະແດງຂໍ້ມູນໃນ X ແລະ Y 3ໂຕທຳອິດອອກມາ"
      ],
      "metadata": {
        "id": "s7IGkr5WNqm5"
      }
    },
    {
      "cell_type": "markdown",
      "source": [
        "* ສະແດງຂໍ້ມູນ 3 ປີທຳອິດທີ່ຢູ່ໃນ Dataframe"
      ],
      "metadata": {
        "id": "fZ1WtubZObS5"
      }
    },
    {
      "cell_type": "code",
      "source": [
        "X[:3]"
      ],
      "metadata": {
        "id": "dGV8upedD9dD",
        "outputId": "73478c83-ad9f-4895-c6b4-7eaebc8a9ff0",
        "colab": {
          "base_uri": "https://localhost:8080/",
          "height": 143
        }
      },
      "execution_count": 31,
      "outputs": [
        {
          "output_type": "execute_result",
          "data": {
            "text/plain": [
              "       year\n",
              "13983  1960\n",
              "13984  1961\n",
              "13985  1962"
            ],
            "text/html": [
              "\n",
              "  <div id=\"df-fcc47bf4-bc48-41bf-8874-0884c9e5bbe3\">\n",
              "    <div class=\"colab-df-container\">\n",
              "      <div>\n",
              "<style scoped>\n",
              "    .dataframe tbody tr th:only-of-type {\n",
              "        vertical-align: middle;\n",
              "    }\n",
              "\n",
              "    .dataframe tbody tr th {\n",
              "        vertical-align: top;\n",
              "    }\n",
              "\n",
              "    .dataframe thead th {\n",
              "        text-align: right;\n",
              "    }\n",
              "</style>\n",
              "<table border=\"1\" class=\"dataframe\">\n",
              "  <thead>\n",
              "    <tr style=\"text-align: right;\">\n",
              "      <th></th>\n",
              "      <th>year</th>\n",
              "    </tr>\n",
              "  </thead>\n",
              "  <tbody>\n",
              "    <tr>\n",
              "      <th>13983</th>\n",
              "      <td>1960</td>\n",
              "    </tr>\n",
              "    <tr>\n",
              "      <th>13984</th>\n",
              "      <td>1961</td>\n",
              "    </tr>\n",
              "    <tr>\n",
              "      <th>13985</th>\n",
              "      <td>1962</td>\n",
              "    </tr>\n",
              "  </tbody>\n",
              "</table>\n",
              "</div>\n",
              "      <button class=\"colab-df-convert\" onclick=\"convertToInteractive('df-fcc47bf4-bc48-41bf-8874-0884c9e5bbe3')\"\n",
              "              title=\"Convert this dataframe to an interactive table.\"\n",
              "              style=\"display:none;\">\n",
              "        \n",
              "  <svg xmlns=\"http://www.w3.org/2000/svg\" height=\"24px\"viewBox=\"0 0 24 24\"\n",
              "       width=\"24px\">\n",
              "    <path d=\"M0 0h24v24H0V0z\" fill=\"none\"/>\n",
              "    <path d=\"M18.56 5.44l.94 2.06.94-2.06 2.06-.94-2.06-.94-.94-2.06-.94 2.06-2.06.94zm-11 1L8.5 8.5l.94-2.06 2.06-.94-2.06-.94L8.5 2.5l-.94 2.06-2.06.94zm10 10l.94 2.06.94-2.06 2.06-.94-2.06-.94-.94-2.06-.94 2.06-2.06.94z\"/><path d=\"M17.41 7.96l-1.37-1.37c-.4-.4-.92-.59-1.43-.59-.52 0-1.04.2-1.43.59L10.3 9.45l-7.72 7.72c-.78.78-.78 2.05 0 2.83L4 21.41c.39.39.9.59 1.41.59.51 0 1.02-.2 1.41-.59l7.78-7.78 2.81-2.81c.8-.78.8-2.07 0-2.86zM5.41 20L4 18.59l7.72-7.72 1.47 1.35L5.41 20z\"/>\n",
              "  </svg>\n",
              "      </button>\n",
              "      \n",
              "  <style>\n",
              "    .colab-df-container {\n",
              "      display:flex;\n",
              "      flex-wrap:wrap;\n",
              "      gap: 12px;\n",
              "    }\n",
              "\n",
              "    .colab-df-convert {\n",
              "      background-color: #E8F0FE;\n",
              "      border: none;\n",
              "      border-radius: 50%;\n",
              "      cursor: pointer;\n",
              "      display: none;\n",
              "      fill: #1967D2;\n",
              "      height: 32px;\n",
              "      padding: 0 0 0 0;\n",
              "      width: 32px;\n",
              "    }\n",
              "\n",
              "    .colab-df-convert:hover {\n",
              "      background-color: #E2EBFA;\n",
              "      box-shadow: 0px 1px 2px rgba(60, 64, 67, 0.3), 0px 1px 3px 1px rgba(60, 64, 67, 0.15);\n",
              "      fill: #174EA6;\n",
              "    }\n",
              "\n",
              "    [theme=dark] .colab-df-convert {\n",
              "      background-color: #3B4455;\n",
              "      fill: #D2E3FC;\n",
              "    }\n",
              "\n",
              "    [theme=dark] .colab-df-convert:hover {\n",
              "      background-color: #434B5C;\n",
              "      box-shadow: 0px 1px 3px 1px rgba(0, 0, 0, 0.15);\n",
              "      filter: drop-shadow(0px 1px 2px rgba(0, 0, 0, 0.3));\n",
              "      fill: #FFFFFF;\n",
              "    }\n",
              "  </style>\n",
              "\n",
              "      <script>\n",
              "        const buttonEl =\n",
              "          document.querySelector('#df-fcc47bf4-bc48-41bf-8874-0884c9e5bbe3 button.colab-df-convert');\n",
              "        buttonEl.style.display =\n",
              "          google.colab.kernel.accessAllowed ? 'block' : 'none';\n",
              "\n",
              "        async function convertToInteractive(key) {\n",
              "          const element = document.querySelector('#df-fcc47bf4-bc48-41bf-8874-0884c9e5bbe3');\n",
              "          const dataTable =\n",
              "            await google.colab.kernel.invokeFunction('convertToInteractive',\n",
              "                                                     [key], {});\n",
              "          if (!dataTable) return;\n",
              "\n",
              "          const docLinkHtml = 'Like what you see? Visit the ' +\n",
              "            '<a target=\"_blank\" href=https://colab.research.google.com/notebooks/data_table.ipynb>data table notebook</a>'\n",
              "            + ' to learn more about interactive tables.';\n",
              "          element.innerHTML = '';\n",
              "          dataTable['output_type'] = 'display_data';\n",
              "          await google.colab.output.renderOutput(dataTable, element);\n",
              "          const docLink = document.createElement('div');\n",
              "          docLink.innerHTML = docLinkHtml;\n",
              "          element.appendChild(docLink);\n",
              "        }\n",
              "      </script>\n",
              "    </div>\n",
              "  </div>\n",
              "  "
            ]
          },
          "metadata": {},
          "execution_count": 31
        }
      ]
    },
    {
      "cell_type": "markdown",
      "source": [
        "* ອັດຕາການເສຍຊີວິດຂອງປະຊາກອນຢູ່ທີ່ 13.180 ຕໍ່ປະຊາກອນ 1000 ຄົນ\n",
        "* ອັດຕາການເສຍຊີວິດຂອງປະຊາກອນຢູ່ທີ່ 12.853 ຕໍ່ປະຊາກອນ 1000 ຄົນ\n",
        "* ອັດຕາການເສຍຊີວິດຂອງປະຊາກອນຢູ່ທີ່ 12.534 ຕໍ່ປະຊາກອນ 1000 ຄົນ"
      ],
      "metadata": {
        "id": "Xr_z7NwnOGqp"
      }
    },
    {
      "cell_type": "code",
      "source": [
        "y[:3]"
      ],
      "metadata": {
        "id": "4e6Hyhh8D-4S",
        "outputId": "2ad5c7e7-5e8a-4447-af84-3a5c3a753170",
        "colab": {
          "base_uri": "https://localhost:8080/"
        }
      },
      "execution_count": 32,
      "outputs": [
        {
          "output_type": "execute_result",
          "data": {
            "text/plain": [
              "13983    13.180\n",
              "13984    12.853\n",
              "13985    12.534\n",
              "Name: Death rate, crude (per 1,000 people), dtype: float64"
            ]
          },
          "metadata": {},
          "execution_count": 32
        }
      ]
    },
    {
      "cell_type": "markdown",
      "source": [
        "# 3.4 train_test_split ຜ່ານຄ່າ X ກັບ Y\n",
        "\n",
        "* ແລ້ວເຮົາກໍຈະໄດ້ອອກມາ 4 ອັນຄື: X_train, X_test, y_train, y_test"
      ],
      "metadata": {
        "id": "ji7yHgyOOBOe"
      }
    },
    {
      "cell_type": "code",
      "source": [
        "test_size=.2\n",
        "X_train, X_test, y_train, y_test = train_test_split(X, y, \n",
        "                                                    test_size=test_size, \n",
        "                                                    random_state=1)"
      ],
      "metadata": {
        "id": "7_OtfHw-D_tx"
      },
      "execution_count": 33,
      "outputs": []
    },
    {
      "cell_type": "markdown",
      "source": [
        "#4 linear regression\n",
        "imple regression model\n",
        "\n",
        "![image.png](data:image/png;base64,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)"
      ],
      "metadata": {
        "id": "2Z0wDcEPEHWq"
      }
    },
    {
      "cell_type": "markdown",
      "source": [
        "B0 = intercept\n",
        "\n",
        "B1 = coef\n",
        "\n",
        "x = year"
      ],
      "metadata": {
        "id": "xcAZWQP_6CqX"
      }
    },
    {
      "cell_type": "markdown",
      "source": [
        "# 4.1 ສ້າງ lm ໄວ້ເກັບຄ່າ LinearRegression ແລ້ວສະແດງ lm ອອກມາ"
      ],
      "metadata": {
        "id": "vu8abv_iQD8k"
      }
    },
    {
      "cell_type": "code",
      "source": [
        "lm = LinearRegression()\n",
        "lm"
      ],
      "metadata": {
        "id": "U1K2SBbjELBA",
        "outputId": "54c77fc1-48f6-47a6-f109-060d3d2e1014",
        "colab": {
          "base_uri": "https://localhost:8080/"
        }
      },
      "execution_count": 34,
      "outputs": [
        {
          "output_type": "execute_result",
          "data": {
            "text/plain": [
              "LinearRegression()"
            ]
          },
          "metadata": {},
          "execution_count": 34
        }
      ]
    },
    {
      "cell_type": "markdown",
      "source": [
        "#4.2 ຕໍ່ໄປກໍຈະ Fit Model ດ້ວຍ X_train, y_train"
      ],
      "metadata": {
        "id": "j9suSWqSQhoe"
      }
    },
    {
      "cell_type": "code",
      "source": [
        "lm.fit(X_train, y_train)"
      ],
      "metadata": {
        "id": "vf8GwjptES3M",
        "outputId": "b54ddd6a-2c26-436c-8e5a-4eaa23aa6b25",
        "colab": {
          "base_uri": "https://localhost:8080/"
        }
      },
      "execution_count": 35,
      "outputs": [
        {
          "output_type": "execute_result",
          "data": {
            "text/plain": [
              "LinearRegression()"
            ]
          },
          "metadata": {},
          "execution_count": 35
        }
      ]
    },
    {
      "cell_type": "markdown",
      "source": [
        "# 4.3 ຖ້າມັນເປັນ LinearRegression ຜົນທີ່ໄດ້ກໍຈະເປັນ R-squared"
      ],
      "metadata": {
        "id": "fSuKitAgQ0CJ"
      }
    },
    {
      "cell_type": "code",
      "source": [
        "lm.score(X_train, y_train) # R-squared"
      ],
      "metadata": {
        "id": "S6n6bFHbEUnX",
        "outputId": "2e7e2482-5e8b-46e8-82e3-6de072354267",
        "colab": {
          "base_uri": "https://localhost:8080/"
        }
      },
      "execution_count": 36,
      "outputs": [
        {
          "output_type": "execute_result",
          "data": {
            "text/plain": [
              "0.4353052622557835"
            ]
          },
          "metadata": {},
          "execution_count": 36
        }
      ]
    },
    {
      "cell_type": "markdown",
      "source": [
        "# coef = -0.07 ແທນໃສ່ B1"
      ],
      "metadata": {
        "id": "K5_mAjzU5Mgv"
      }
    },
    {
      "cell_type": "code",
      "source": [
        "lm.coef_"
      ],
      "metadata": {
        "id": "yv5yL1gQEWDc",
        "outputId": "1a0b28dc-e45b-436a-f1f9-3373ffc570a2",
        "colab": {
          "base_uri": "https://localhost:8080/"
        }
      },
      "execution_count": 37,
      "outputs": [
        {
          "output_type": "execute_result",
          "data": {
            "text/plain": [
              "array([-0.07661316])"
            ]
          },
          "metadata": {},
          "execution_count": 37
        }
      ]
    },
    {
      "cell_type": "markdown",
      "source": [
        "# intercept = 160 ແທນໃສ່ B0"
      ],
      "metadata": {
        "id": "ZDlD5fhD48Ck"
      }
    },
    {
      "cell_type": "code",
      "source": [
        "lm.intercept_"
      ],
      "metadata": {
        "id": "2fbeaFWxEX-a",
        "outputId": "29256ebf-4e76-474b-d673-6d34cb67b2f7",
        "colab": {
          "base_uri": "https://localhost:8080/"
        }
      },
      "execution_count": 38,
      "outputs": [
        {
          "output_type": "execute_result",
          "data": {
            "text/plain": [
              "160.27616227662946"
            ]
          },
          "metadata": {},
          "execution_count": 38
        }
      ]
    },
    {
      "cell_type": "markdown",
      "source": [
        "# 4.4 ທົດລອງໃຊ້ X_test, y_test ໃນ R-squared"
      ],
      "metadata": {
        "id": "PreoqzE69NhZ"
      }
    },
    {
      "cell_type": "code",
      "source": [
        "lm.score(X_test, y_test) # R-squared"
      ],
      "metadata": {
        "id": "v4Y7x50_EZeB",
        "outputId": "28c7f06a-c300-4b7b-e35e-5034da5f4450",
        "colab": {
          "base_uri": "https://localhost:8080/"
        }
      },
      "execution_count": 39,
      "outputs": [
        {
          "output_type": "execute_result",
          "data": {
            "text/plain": [
              "0.5856015176097809"
            ]
          },
          "metadata": {},
          "execution_count": 39
        }
      ]
    },
    {
      "cell_type": "markdown",
      "source": [
        "#4.5 ສະແດງກຣາຟອັນຕາການເສຍຊີວິດ\n",
        "\n",
        "ເສັ້ນສີແດງມາຈາກ = plt.scatter(X, y, color = 'green', alpha=.2)\n",
        "\n",
        "ເສັ້ນສີຂຽວມາຈາກ = plt.plot(X, lm.predict(X), color = 'red', alpha=.5)\n",
        "\n",
        "ແກນ x ແມ່ນປິ\n",
        "\n",
        "ແກນ y ແມ່ນ ຈຳນວນຜູ້ເສຍຊີວິດ ຕໍ່ 1000 ຄົນ"
      ],
      "metadata": {
        "id": "VMA43ZdZ9e-r"
      }
    },
    {
      "cell_type": "code",
      "source": [
        "fig = plt.figure(figsize=(10, 6))\n",
        "plt.scatter(X, y, color = 'green', alpha=.2)\n",
        "plt.plot(X, lm.predict(X), color = 'red', alpha=.5)\n",
        "plt.title('Linear Regression')\n",
        "plt.xlabel(x_col)\n",
        "plt.ylabel(y_col)"
      ],
      "metadata": {
        "id": "T28BoQNlEcWS",
        "outputId": "2abcc449-3aa4-4628-9abe-3b1188aee064",
        "colab": {
          "base_uri": "https://localhost:8080/",
          "height": 420
        }
      },
      "execution_count": 40,
      "outputs": [
        {
          "output_type": "execute_result",
          "data": {
            "text/plain": [
              "Text(0, 0.5, 'Death rate, crude (per 1,000 people)')"
            ]
          },
          "metadata": {},
          "execution_count": 40
        },
        {
          "output_type": "display_data",
          "data": {
            "text/plain": [
              "<Figure size 720x432 with 1 Axes>"
            ],
            "image/png": "[encoded data removed]"
          },
          "metadata": {
            "image/png": {
              "width": 610,
              "height": 386
            },
            "needs_background": "light"
          }
        }
      ]
    },
    {
      "cell_type": "markdown",
      "source": [
        "# 4.6 ການພະຍາກອນ \n",
        "\n",
        "* ປ້ອນຂໍ້ມູນທີ່ເຮົາຕ້ອງການໃຫ້ຄອມປະມວນຜົນເຂົ້າໄປແລ້ວໃນມັນລອງພະຍາກອນລອງເບິ່ງ"
      ],
      "metadata": {
        "id": "v804oAmM-c1h"
      }
    },
    {
      "cell_type": "code",
      "source": [
        "lm.predict([[1990], \n",
        "            [2020]])"
      ],
      "metadata": {
        "id": "GKCRfLsfEdN4",
        "outputId": "0755fd82-ab7d-4efb-dda9-978827e13c64",
        "colab": {
          "base_uri": "https://localhost:8080/"
        }
      },
      "execution_count": 41,
      "outputs": [
        {
          "output_type": "stream",
          "name": "stderr",
          "text": [
            "/usr/local/lib/python3.8/dist-packages/sklearn/base.py:450: UserWarning: X does not have valid feature names, but LinearRegression was fitted with feature names\n",
            "  warnings.warn(\n"
          ]
        },
        {
          "output_type": "execute_result",
          "data": {
            "text/plain": [
              "array([7.81597278, 5.51757797])"
            ]
          },
          "metadata": {},
          "execution_count": 41
        }
      ]
    },
    {
      "cell_type": "markdown",
      "source": [
        "# polynomial regression\n",
        "simple regression model\n",
        "\n",
        "![image.png](data:image/png;base64,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)\n",
        "\n",
        "general polynomial regression model\n",
        "\n",
        "![image.png](data:image/png;base64,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)\n",
        "\n"
      ],
      "metadata": {
        "id": "c4VA1xo4Ef8J"
      }
    },
    {
      "cell_type": "code",
      "source": [
        "poly = PolynomialFeatures(degree=2)"
      ],
      "metadata": {
        "id": "9yAf0TQUE1fT"
      },
      "execution_count": 42,
      "outputs": []
    },
    {
      "cell_type": "code",
      "source": [
        "#poly.get_feature_names()"
      ],
      "metadata": {
        "id": "4XyEkkQGFMu4"
      },
      "execution_count": 43,
      "outputs": []
    },
    {
      "cell_type": "code",
      "source": [
        "v=1990\n",
        "v**0, v**1, v**2"
      ],
      "metadata": {
        "id": "DhbciEW4FODf",
        "outputId": "f038e1cb-1fd4-46d1-f346-b41ac734a709",
        "colab": {
          "base_uri": "https://localhost:8080/"
        }
      },
      "execution_count": 44,
      "outputs": [
        {
          "output_type": "execute_result",
          "data": {
            "text/plain": [
              "(1, 1990, 3960100)"
            ]
          },
          "metadata": {},
          "execution_count": 44
        }
      ]
    },
    {
      "cell_type": "code",
      "source": [
        "X_train[:3]"
      ],
      "metadata": {
        "id": "Shim_fUwFO6k",
        "outputId": "a60dfa71-a0f6-4310-9a9f-4977d53259e7",
        "colab": {
          "base_uri": "https://localhost:8080/",
          "height": 143
        }
      },
      "execution_count": 45,
      "outputs": [
        {
          "output_type": "execute_result",
          "data": {
            "text/plain": [
              "       year\n",
              "14019  1996\n",
              "14023  2000\n",
              "14007  1984"
            ],
            "text/html": [
              "\n",
              "  <div id=\"df-d5a5cdee-c076-47c6-a1b8-af3cb08a6d53\">\n",
              "    <div class=\"colab-df-container\">\n",
              "      <div>\n",
              "<style scoped>\n",
              "    .dataframe tbody tr th:only-of-type {\n",
              "        vertical-align: middle;\n",
              "    }\n",
              "\n",
              "    .dataframe tbody tr th {\n",
              "        vertical-align: top;\n",
              "    }\n",
              "\n",
              "    .dataframe thead th {\n",
              "        text-align: right;\n",
              "    }\n",
              "</style>\n",
              "<table border=\"1\" class=\"dataframe\">\n",
              "  <thead>\n",
              "    <tr style=\"text-align: right;\">\n",
              "      <th></th>\n",
              "      <th>year</th>\n",
              "    </tr>\n",
              "  </thead>\n",
              "  <tbody>\n",
              "    <tr>\n",
              "      <th>14019</th>\n",
              "      <td>1996</td>\n",
              "    </tr>\n",
              "    <tr>\n",
              "      <th>14023</th>\n",
              "      <td>2000</td>\n",
              "    </tr>\n",
              "    <tr>\n",
              "      <th>14007</th>\n",
              "      <td>1984</td>\n",
              "    </tr>\n",
              "  </tbody>\n",
              "</table>\n",
              "</div>\n",
              "      <button class=\"colab-df-convert\" onclick=\"convertToInteractive('df-d5a5cdee-c076-47c6-a1b8-af3cb08a6d53')\"\n",
              "              title=\"Convert this dataframe to an interactive table.\"\n",
              "              style=\"display:none;\">\n",
              "        \n",
              "  <svg xmlns=\"http://www.w3.org/2000/svg\" height=\"24px\"viewBox=\"0 0 24 24\"\n",
              "       width=\"24px\">\n",
              "    <path d=\"M0 0h24v24H0V0z\" fill=\"none\"/>\n",
              "    <path d=\"M18.56 5.44l.94 2.06.94-2.06 2.06-.94-2.06-.94-.94-2.06-.94 2.06-2.06.94zm-11 1L8.5 8.5l.94-2.06 2.06-.94-2.06-.94L8.5 2.5l-.94 2.06-2.06.94zm10 10l.94 2.06.94-2.06 2.06-.94-2.06-.94-.94-2.06-.94 2.06-2.06.94z\"/><path d=\"M17.41 7.96l-1.37-1.37c-.4-.4-.92-.59-1.43-.59-.52 0-1.04.2-1.43.59L10.3 9.45l-7.72 7.72c-.78.78-.78 2.05 0 2.83L4 21.41c.39.39.9.59 1.41.59.51 0 1.02-.2 1.41-.59l7.78-7.78 2.81-2.81c.8-.78.8-2.07 0-2.86zM5.41 20L4 18.59l7.72-7.72 1.47 1.35L5.41 20z\"/>\n",
              "  </svg>\n",
              "      </button>\n",
              "      \n",
              "  <style>\n",
              "    .colab-df-container {\n",
              "      display:flex;\n",
              "      flex-wrap:wrap;\n",
              "      gap: 12px;\n",
              "    }\n",
              "\n",
              "    .colab-df-convert {\n",
              "      background-color: #E8F0FE;\n",
              "      border: none;\n",
              "      border-radius: 50%;\n",
              "      cursor: pointer;\n",
              "      display: none;\n",
              "      fill: #1967D2;\n",
              "      height: 32px;\n",
              "      padding: 0 0 0 0;\n",
              "      width: 32px;\n",
              "    }\n",
              "\n",
              "    .colab-df-convert:hover {\n",
              "      background-color: #E2EBFA;\n",
              "      box-shadow: 0px 1px 2px rgba(60, 64, 67, 0.3), 0px 1px 3px 1px rgba(60, 64, 67, 0.15);\n",
              "      fill: #174EA6;\n",
              "    }\n",
              "\n",
              "    [theme=dark] .colab-df-convert {\n",
              "      background-color: #3B4455;\n",
              "      fill: #D2E3FC;\n",
              "    }\n",
              "\n",
              "    [theme=dark] .colab-df-convert:hover {\n",
              "      background-color: #434B5C;\n",
              "      box-shadow: 0px 1px 3px 1px rgba(0, 0, 0, 0.15);\n",
              "      filter: drop-shadow(0px 1px 2px rgba(0, 0, 0, 0.3));\n",
              "      fill: #FFFFFF;\n",
              "    }\n",
              "  </style>\n",
              "\n",
              "      <script>\n",
              "        const buttonEl =\n",
              "          document.querySelector('#df-d5a5cdee-c076-47c6-a1b8-af3cb08a6d53 button.colab-df-convert');\n",
              "        buttonEl.style.display =\n",
              "          google.colab.kernel.accessAllowed ? 'block' : 'none';\n",
              "\n",
              "        async function convertToInteractive(key) {\n",
              "          const element = document.querySelector('#df-d5a5cdee-c076-47c6-a1b8-af3cb08a6d53');\n",
              "          const dataTable =\n",
              "            await google.colab.kernel.invokeFunction('convertToInteractive',\n",
              "                                                     [key], {});\n",
              "          if (!dataTable) return;\n",
              "\n",
              "          const docLinkHtml = 'Like what you see? Visit the ' +\n",
              "            '<a target=\"_blank\" href=https://colab.research.google.com/notebooks/data_table.ipynb>data table notebook</a>'\n",
              "            + ' to learn more about interactive tables.';\n",
              "          element.innerHTML = '';\n",
              "          dataTable['output_type'] = 'display_data';\n",
              "          await google.colab.output.renderOutput(dataTable, element);\n",
              "          const docLink = document.createElement('div');\n",
              "          docLink.innerHTML = docLinkHtml;\n",
              "          element.appendChild(docLink);\n",
              "        }\n",
              "      </script>\n",
              "    </div>\n",
              "  </div>\n",
              "  "
            ]
          },
          "metadata": {},
          "execution_count": 45
        }
      ]
    },
    {
      "cell_type": "code",
      "source": [],
      "metadata": {
        "id": "_rIsjCs7FRnI"
      },
      "execution_count": 45,
      "outputs": []
    },
    {
      "cell_type": "code",
      "source": [
        "X_train_poly = poly.fit_transform(X_train)\n",
        "X_test_poly = poly.fit_transform(X_test)"
      ],
      "metadata": {
        "id": "VjLsI49RFS8g"
      },
      "execution_count": 46,
      "outputs": []
    },
    {
      "cell_type": "code",
      "source": [
        "X_train[:3]"
      ],
      "metadata": {
        "id": "qF_DSbGZFTkf",
        "outputId": "b954e20b-e572-4504-81ed-2c174334c09a",
        "colab": {
          "base_uri": "https://localhost:8080/",
          "height": 143
        }
      },
      "execution_count": 47,
      "outputs": [
        {
          "output_type": "execute_result",
          "data": {
            "text/plain": [
              "       year\n",
              "14019  1996\n",
              "14023  2000\n",
              "14007  1984"
            ],
            "text/html": [
              "\n",
              "  <div id=\"df-a3a3affe-09c3-486d-9922-d6e325e00ffd\">\n",
              "    <div class=\"colab-df-container\">\n",
              "      <div>\n",
              "<style scoped>\n",
              "    .dataframe tbody tr th:only-of-type {\n",
              "        vertical-align: middle;\n",
              "    }\n",
              "\n",
              "    .dataframe tbody tr th {\n",
              "        vertical-align: top;\n",
              "    }\n",
              "\n",
              "    .dataframe thead th {\n",
              "        text-align: right;\n",
              "    }\n",
              "</style>\n",
              "<table border=\"1\" class=\"dataframe\">\n",
              "  <thead>\n",
              "    <tr style=\"text-align: right;\">\n",
              "      <th></th>\n",
              "      <th>year</th>\n",
              "    </tr>\n",
              "  </thead>\n",
              "  <tbody>\n",
              "    <tr>\n",
              "      <th>14019</th>\n",
              "      <td>1996</td>\n",
              "    </tr>\n",
              "    <tr>\n",
              "      <th>14023</th>\n",
              "      <td>2000</td>\n",
              "    </tr>\n",
              "    <tr>\n",
              "      <th>14007</th>\n",
              "      <td>1984</td>\n",
              "    </tr>\n",
              "  </tbody>\n",
              "</table>\n",
              "</div>\n",
              "      <button class=\"colab-df-convert\" onclick=\"convertToInteractive('df-a3a3affe-09c3-486d-9922-d6e325e00ffd')\"\n",
              "              title=\"Convert this dataframe to an interactive table.\"\n",
              "              style=\"display:none;\">\n",
              "        \n",
              "  <svg xmlns=\"http://www.w3.org/2000/svg\" height=\"24px\"viewBox=\"0 0 24 24\"\n",
              "       width=\"24px\">\n",
              "    <path d=\"M0 0h24v24H0V0z\" fill=\"none\"/>\n",
              "    <path d=\"M18.56 5.44l.94 2.06.94-2.06 2.06-.94-2.06-.94-.94-2.06-.94 2.06-2.06.94zm-11 1L8.5 8.5l.94-2.06 2.06-.94-2.06-.94L8.5 2.5l-.94 2.06-2.06.94zm10 10l.94 2.06.94-2.06 2.06-.94-2.06-.94-.94-2.06-.94 2.06-2.06.94z\"/><path d=\"M17.41 7.96l-1.37-1.37c-.4-.4-.92-.59-1.43-.59-.52 0-1.04.2-1.43.59L10.3 9.45l-7.72 7.72c-.78.78-.78 2.05 0 2.83L4 21.41c.39.39.9.59 1.41.59.51 0 1.02-.2 1.41-.59l7.78-7.78 2.81-2.81c.8-.78.8-2.07 0-2.86zM5.41 20L4 18.59l7.72-7.72 1.47 1.35L5.41 20z\"/>\n",
              "  </svg>\n",
              "      </button>\n",
              "      \n",
              "  <style>\n",
              "    .colab-df-container {\n",
              "      display:flex;\n",
              "      flex-wrap:wrap;\n",
              "      gap: 12px;\n",
              "    }\n",
              "\n",
              "    .colab-df-convert {\n",
              "      background-color: #E8F0FE;\n",
              "      border: none;\n",
              "      border-radius: 50%;\n",
              "      cursor: pointer;\n",
              "      display: none;\n",
              "      fill: #1967D2;\n",
              "      height: 32px;\n",
              "      padding: 0 0 0 0;\n",
              "      width: 32px;\n",
              "    }\n",
              "\n",
              "    .colab-df-convert:hover {\n",
              "      background-color: #E2EBFA;\n",
              "      box-shadow: 0px 1px 2px rgba(60, 64, 67, 0.3), 0px 1px 3px 1px rgba(60, 64, 67, 0.15);\n",
              "      fill: #174EA6;\n",
              "    }\n",
              "\n",
              "    [theme=dark] .colab-df-convert {\n",
              "      background-color: #3B4455;\n",
              "      fill: #D2E3FC;\n",
              "    }\n",
              "\n",
              "    [theme=dark] .colab-df-convert:hover {\n",
              "      background-color: #434B5C;\n",
              "      box-shadow: 0px 1px 3px 1px rgba(0, 0, 0, 0.15);\n",
              "      filter: drop-shadow(0px 1px 2px rgba(0, 0, 0, 0.3));\n",
              "      fill: #FFFFFF;\n",
              "    }\n",
              "  </style>\n",
              "\n",
              "      <script>\n",
              "        const buttonEl =\n",
              "          document.querySelector('#df-a3a3affe-09c3-486d-9922-d6e325e00ffd button.colab-df-convert');\n",
              "        buttonEl.style.display =\n",
              "          google.colab.kernel.accessAllowed ? 'block' : 'none';\n",
              "\n",
              "        async function convertToInteractive(key) {\n",
              "          const element = document.querySelector('#df-a3a3affe-09c3-486d-9922-d6e325e00ffd');\n",
              "          const dataTable =\n",
              "            await google.colab.kernel.invokeFunction('convertToInteractive',\n",
              "                                                     [key], {});\n",
              "          if (!dataTable) return;\n",
              "\n",
              "          const docLinkHtml = 'Like what you see? Visit the ' +\n",
              "            '<a target=\"_blank\" href=https://colab.research.google.com/notebooks/data_table.ipynb>data table notebook</a>'\n",
              "            + ' to learn more about interactive tables.';\n",
              "          element.innerHTML = '';\n",
              "          dataTable['output_type'] = 'display_data';\n",
              "          await google.colab.output.renderOutput(dataTable, element);\n",
              "          const docLink = document.createElement('div');\n",
              "          docLink.innerHTML = docLinkHtml;\n",
              "          element.appendChild(docLink);\n",
              "        }\n",
              "      </script>\n",
              "    </div>\n",
              "  </div>\n",
              "  "
            ]
          },
          "metadata": {},
          "execution_count": 47
        }
      ]
    },
    {
      "cell_type": "code",
      "source": [
        "X_train_poly[:3]"
      ],
      "metadata": {
        "id": "Z08lujhkFVLb",
        "outputId": "0815e9a5-f022-418a-c340-6e768c41156e",
        "colab": {
          "base_uri": "https://localhost:8080/"
        }
      },
      "execution_count": 48,
      "outputs": [
        {
          "output_type": "execute_result",
          "data": {
            "text/plain": [
              "array([[1.000000e+00, 1.996000e+03, 3.984016e+06],\n",
              "       [1.000000e+00, 2.000000e+03, 4.000000e+06],\n",
              "       [1.000000e+00, 1.984000e+03, 3.936256e+06]])"
            ]
          },
          "metadata": {},
          "execution_count": 48
        }
      ]
    },
    {
      "cell_type": "code",
      "source": [
        "pm = LinearRegression()\n",
        "pm.fit(X_train_poly, y_train)"
      ],
      "metadata": {
        "id": "M1qivgjYFXFZ",
        "outputId": "47d30813-8985-4d8e-c0c5-e8a283739e80",
        "colab": {
          "base_uri": "https://localhost:8080/"
        }
      },
      "execution_count": 49,
      "outputs": [
        {
          "output_type": "execute_result",
          "data": {
            "text/plain": [
              "LinearRegression()"
            ]
          },
          "metadata": {},
          "execution_count": 49
        }
      ]
    },
    {
      "cell_type": "code",
      "source": [
        "pm.score(X_train_poly, y_train) # R-squared"
      ],
      "metadata": {
        "id": "_vE19XYLFZC8",
        "outputId": "bc819af4-8f6c-42ea-ceef-32d4c378d9d4",
        "colab": {
          "base_uri": "https://localhost:8080/"
        }
      },
      "execution_count": 50,
      "outputs": [
        {
          "output_type": "execute_result",
          "data": {
            "text/plain": [
              "0.9448282949367037"
            ]
          },
          "metadata": {},
          "execution_count": 50
        }
      ]
    },
    {
      "cell_type": "code",
      "source": [
        "pm.intercept_"
      ],
      "metadata": {
        "id": "JoTI5vVxFaU6",
        "outputId": "16da6ceb-abe5-4e37-ac88-f20ca220f11b",
        "colab": {
          "base_uri": "https://localhost:8080/"
        }
      },
      "execution_count": 51,
      "outputs": [
        {
          "output_type": "execute_result",
          "data": {
            "text/plain": [
              "21619.43539756367"
            ]
          },
          "metadata": {},
          "execution_count": 51
        }
      ]
    },
    {
      "cell_type": "code",
      "source": [
        "pm.coef_"
      ],
      "metadata": {
        "id": "MRJ3leSIFbrh",
        "outputId": "2769bebf-7d1f-4f02-b60b-b91418c20a98",
        "colab": {
          "base_uri": "https://localhost:8080/"
        }
      },
      "execution_count": 52,
      "outputs": [
        {
          "output_type": "execute_result",
          "data": {
            "text/plain": [
              "array([ 0.00000000e+00, -2.16491346e+01,  5.42121601e-03])"
            ]
          },
          "metadata": {},
          "execution_count": 52
        }
      ]
    },
    {
      "cell_type": "code",
      "source": [
        "pm.score(X_test_poly, y_test) # R-squared"
      ],
      "metadata": {
        "id": "UCMvPOMFFlES",
        "outputId": "19c0ed8d-0e38-4104-f97c-32a5630a516d",
        "colab": {
          "base_uri": "https://localhost:8080/"
        }
      },
      "execution_count": 53,
      "outputs": [
        {
          "output_type": "execute_result",
          "data": {
            "text/plain": [
              "0.9491064757890537"
            ]
          },
          "metadata": {},
          "execution_count": 53
        }
      ]
    },
    {
      "cell_type": "code",
      "source": [
        "X_train[:3]"
      ],
      "metadata": {
        "id": "cJ7NEwbPFnne",
        "outputId": "9b769626-9fb9-45fb-aace-d31f8eee5985",
        "colab": {
          "base_uri": "https://localhost:8080/",
          "height": 143
        }
      },
      "execution_count": 54,
      "outputs": [
        {
          "output_type": "execute_result",
          "data": {
            "text/plain": [
              "       year\n",
              "14019  1996\n",
              "14023  2000\n",
              "14007  1984"
            ],
            "text/html": [
              "\n",
              "  <div id=\"df-7c195705-c0aa-44b8-95cf-656157ae5a85\">\n",
              "    <div class=\"colab-df-container\">\n",
              "      <div>\n",
              "<style scoped>\n",
              "    .dataframe tbody tr th:only-of-type {\n",
              "        vertical-align: middle;\n",
              "    }\n",
              "\n",
              "    .dataframe tbody tr th {\n",
              "        vertical-align: top;\n",
              "    }\n",
              "\n",
              "    .dataframe thead th {\n",
              "        text-align: right;\n",
              "    }\n",
              "</style>\n",
              "<table border=\"1\" class=\"dataframe\">\n",
              "  <thead>\n",
              "    <tr style=\"text-align: right;\">\n",
              "      <th></th>\n",
              "      <th>year</th>\n",
              "    </tr>\n",
              "  </thead>\n",
              "  <tbody>\n",
              "    <tr>\n",
              "      <th>14019</th>\n",
              "      <td>1996</td>\n",
              "    </tr>\n",
              "    <tr>\n",
              "      <th>14023</th>\n",
              "      <td>2000</td>\n",
              "    </tr>\n",
              "    <tr>\n",
              "      <th>14007</th>\n",
              "      <td>1984</td>\n",
              "    </tr>\n",
              "  </tbody>\n",
              "</table>\n",
              "</div>\n",
              "      <button class=\"colab-df-convert\" onclick=\"convertToInteractive('df-7c195705-c0aa-44b8-95cf-656157ae5a85')\"\n",
              "              title=\"Convert this dataframe to an interactive table.\"\n",
              "              style=\"display:none;\">\n",
              "        \n",
              "  <svg xmlns=\"http://www.w3.org/2000/svg\" height=\"24px\"viewBox=\"0 0 24 24\"\n",
              "       width=\"24px\">\n",
              "    <path d=\"M0 0h24v24H0V0z\" fill=\"none\"/>\n",
              "    <path d=\"M18.56 5.44l.94 2.06.94-2.06 2.06-.94-2.06-.94-.94-2.06-.94 2.06-2.06.94zm-11 1L8.5 8.5l.94-2.06 2.06-.94-2.06-.94L8.5 2.5l-.94 2.06-2.06.94zm10 10l.94 2.06.94-2.06 2.06-.94-2.06-.94-.94-2.06-.94 2.06-2.06.94z\"/><path d=\"M17.41 7.96l-1.37-1.37c-.4-.4-.92-.59-1.43-.59-.52 0-1.04.2-1.43.59L10.3 9.45l-7.72 7.72c-.78.78-.78 2.05 0 2.83L4 21.41c.39.39.9.59 1.41.59.51 0 1.02-.2 1.41-.59l7.78-7.78 2.81-2.81c.8-.78.8-2.07 0-2.86zM5.41 20L4 18.59l7.72-7.72 1.47 1.35L5.41 20z\"/>\n",
              "  </svg>\n",
              "      </button>\n",
              "      \n",
              "  <style>\n",
              "    .colab-df-container {\n",
              "      display:flex;\n",
              "      flex-wrap:wrap;\n",
              "      gap: 12px;\n",
              "    }\n",
              "\n",
              "    .colab-df-convert {\n",
              "      background-color: #E8F0FE;\n",
              "      border: none;\n",
              "      border-radius: 50%;\n",
              "      cursor: pointer;\n",
              "      display: none;\n",
              "      fill: #1967D2;\n",
              "      height: 32px;\n",
              "      padding: 0 0 0 0;\n",
              "      width: 32px;\n",
              "    }\n",
              "\n",
              "    .colab-df-convert:hover {\n",
              "      background-color: #E2EBFA;\n",
              "      box-shadow: 0px 1px 2px rgba(60, 64, 67, 0.3), 0px 1px 3px 1px rgba(60, 64, 67, 0.15);\n",
              "      fill: #174EA6;\n",
              "    }\n",
              "\n",
              "    [theme=dark] .colab-df-convert {\n",
              "      background-color: #3B4455;\n",
              "      fill: #D2E3FC;\n",
              "    }\n",
              "\n",
              "    [theme=dark] .colab-df-convert:hover {\n",
              "      background-color: #434B5C;\n",
              "      box-shadow: 0px 1px 3px 1px rgba(0, 0, 0, 0.15);\n",
              "      filter: drop-shadow(0px 1px 2px rgba(0, 0, 0, 0.3));\n",
              "      fill: #FFFFFF;\n",
              "    }\n",
              "  </style>\n",
              "\n",
              "      <script>\n",
              "        const buttonEl =\n",
              "          document.querySelector('#df-7c195705-c0aa-44b8-95cf-656157ae5a85 button.colab-df-convert');\n",
              "        buttonEl.style.display =\n",
              "          google.colab.kernel.accessAllowed ? 'block' : 'none';\n",
              "\n",
              "        async function convertToInteractive(key) {\n",
              "          const element = document.querySelector('#df-7c195705-c0aa-44b8-95cf-656157ae5a85');\n",
              "          const dataTable =\n",
              "            await google.colab.kernel.invokeFunction('convertToInteractive',\n",
              "                                                     [key], {});\n",
              "          if (!dataTable) return;\n",
              "\n",
              "          const docLinkHtml = 'Like what you see? Visit the ' +\n",
              "            '<a target=\"_blank\" href=https://colab.research.google.com/notebooks/data_table.ipynb>data table notebook</a>'\n",
              "            + ' to learn more about interactive tables.';\n",
              "          element.innerHTML = '';\n",
              "          dataTable['output_type'] = 'display_data';\n",
              "          await google.colab.output.renderOutput(dataTable, element);\n",
              "          const docLink = document.createElement('div');\n",
              "          docLink.innerHTML = docLinkHtml;\n",
              "          element.appendChild(docLink);\n",
              "        }\n",
              "      </script>\n",
              "    </div>\n",
              "  </div>\n",
              "  "
            ]
          },
          "metadata": {},
          "execution_count": 54
        }
      ]
    },
    {
      "cell_type": "code",
      "source": [
        "X_train_poly[:3]"
      ],
      "metadata": {
        "id": "k5J_3eFtFoJ-",
        "outputId": "7fe11676-256b-4cf7-e28c-0c58632eea48",
        "colab": {
          "base_uri": "https://localhost:8080/"
        }
      },
      "execution_count": 55,
      "outputs": [
        {
          "output_type": "execute_result",
          "data": {
            "text/plain": [
              "array([[1.000000e+00, 1.996000e+03, 3.984016e+06],\n",
              "       [1.000000e+00, 2.000000e+03, 4.000000e+06],\n",
              "       [1.000000e+00, 1.984000e+03, 3.936256e+06]])"
            ]
          },
          "metadata": {},
          "execution_count": 55
        }
      ]
    },
    {
      "cell_type": "code",
      "source": [
        "pm.intercept_ + sum((pm.coef_ * X_train_poly[0]))"
      ],
      "metadata": {
        "id": "DpbAaaonFpvY",
        "outputId": "b56227e9-7ff5-4abb-ae6f-56e1cb71fc51",
        "colab": {
          "base_uri": "https://localhost:8080/"
        }
      },
      "execution_count": 56,
      "outputs": [
        {
          "output_type": "execute_result",
          "data": {
            "text/plain": [
              "5.974124829725042"
            ]
          },
          "metadata": {},
          "execution_count": 56
        }
      ]
    },
    {
      "cell_type": "code",
      "source": [
        "pm.predict(X_train_poly[:3])"
      ],
      "metadata": {
        "id": "VxSLyFqVFsKv",
        "outputId": "b6a80736-4503-49fc-d397-8b98e6ea5fae",
        "colab": {
          "base_uri": "https://localhost:8080/"
        }
      },
      "execution_count": 57,
      "outputs": [
        {
          "output_type": "execute_result",
          "data": {
            "text/plain": [
              "array([5.97412483, 6.0303033 , 6.84646291])"
            ]
          },
          "metadata": {},
          "execution_count": 57
        }
      ]
    },
    {
      "cell_type": "code",
      "source": [
        "pm.predict(poly.fit_transform([[1996]]))"
      ],
      "metadata": {
        "id": "tDB_LIqiFtlE",
        "outputId": "2c8e3c2e-ebb6-4847-f509-5711b9f056d5",
        "colab": {
          "base_uri": "https://localhost:8080/"
        }
      },
      "execution_count": 58,
      "outputs": [
        {
          "output_type": "execute_result",
          "data": {
            "text/plain": [
              "array([5.97412483])"
            ]
          },
          "metadata": {},
          "execution_count": 58
        }
      ]
    },
    {
      "cell_type": "code",
      "source": [
        "pm.predict(poly.fit_transform([[1996], [2000], [1984]]))"
      ],
      "metadata": {
        "id": "i-pEt0VhFwNY",
        "outputId": "e8cb09eb-154a-4eaf-a5dd-b44cb587f1e5",
        "colab": {
          "base_uri": "https://localhost:8080/"
        }
      },
      "execution_count": 59,
      "outputs": [
        {
          "output_type": "execute_result",
          "data": {
            "text/plain": [
              "array([5.97412483, 6.0303033 , 6.84646291])"
            ]
          },
          "metadata": {},
          "execution_count": 59
        }
      ]
    },
    {
      "cell_type": "code",
      "source": [
        "def predict(intercept, coef, x):\n",
        "    v=intercept\n",
        "    for p in range(len(coef)):\n",
        "       v += x ** p * coef[p]\n",
        "    return v"
      ],
      "metadata": {
        "id": "Y9kG5MbbFw5t"
      },
      "execution_count": 60,
      "outputs": []
    },
    {
      "cell_type": "code",
      "source": [
        "predict(pm.intercept_, pm.coef_, 1996)"
      ],
      "metadata": {
        "id": "WKOvpLdzFz7F",
        "outputId": "5a8b738d-f7dc-4e4f-9724-9add85455c4c",
        "colab": {
          "base_uri": "https://localhost:8080/"
        }
      },
      "execution_count": 61,
      "outputs": [
        {
          "output_type": "execute_result",
          "data": {
            "text/plain": [
              "5.974124829725042"
            ]
          },
          "metadata": {},
          "execution_count": 61
        }
      ]
    },
    {
      "cell_type": "code",
      "source": [
        "fig = plt.figure(figsize=(10, 6))\n",
        "plt.scatter(X, y, color = 'green', alpha=.2)\n",
        "plt.plot(X, pm.predict(poly.fit_transform(X)), color = 'red', alpha=.5)\n",
        "plt.title('Polynomial Regression')\n",
        "plt.xlabel(x_col)\n",
        "plt.ylabel(y_col)"
      ],
      "metadata": {
        "id": "f1M6F8OPF1cp",
        "outputId": "b225647d-e8fc-4931-9436-bcf93092a965",
        "colab": {
          "base_uri": "https://localhost:8080/",
          "height": 420
        }
      },
      "execution_count": 62,
      "outputs": [
        {
          "output_type": "execute_result",
          "data": {
            "text/plain": [
              "Text(0, 0.5, 'Death rate, crude (per 1,000 people)')"
            ]
          },
          "metadata": {},
          "execution_count": 62
        },
        {
          "output_type": "display_data",
          "data": {
            "text/plain": [
              "<Figure size 720x432 with 1 Axes>"
            ],
            "image/png": "[encoded data removed]"
          },
          "metadata": {
            "image/png": {
              "width": 610,
              "height": 386
            },
            "needs_background": "light"
          }
        }
      ]
    },
    {
      "cell_type": "code",
      "source": [
        "fig = plt.figure(figsize=(8 * 2, 5))\n",
        "d={'Linear Regression': lm.predict(X),\n",
        "   'Polynomial Regression': pm.predict(poly.fit_transform(X))}\n",
        "i=1\n",
        "for title, y_pred in d.items():\n",
        "    fig.add_subplot(1, 2, i)\n",
        "    plt.scatter(X, y, color = 'green', alpha=.2)\n",
        "    plt.plot(X, y_pred, color = 'red', alpha=.5)\n",
        "    plt.title(title)\n",
        "    #plt.xlabel(x_col)\n",
        "    plt.ylabel(y_col)\n",
        "    i += 1"
      ],
      "metadata": {
        "id": "poECymGzF3bJ",
        "outputId": "ff886152-d20c-4b39-d213-e09917538d74",
        "colab": {
          "base_uri": "https://localhost:8080/",
          "height": 335
        }
      },
      "execution_count": 63,
      "outputs": [
        {
          "output_type": "display_data",
          "data": {
            "text/plain": [
              "<Figure size 1152x360 with 2 Axes>"
            ],
            "image/png": "[encoded data removed]"
          },
          "metadata": {
            "image/png": {
              "width": 947,
              "height": 318
            },
            "needs_background": "light"
          }
        }
      ]
    },
    {
      "cell_type": "markdown",
      "source": [
        "# Plot varying by degree"
      ],
      "metadata": {
        "id": "_tkSKVX7F8aw"
      }
    },
    {
      "cell_type": "code",
      "source": [
        "def plots(degree_ranges=range(2, 8)):\n",
        "    import math\n",
        "    n=len(degree_ranges)\n",
        "    n_rows=2\n",
        "    n_cols=math.ceil(n / n_rows)\n",
        "    fig = plt.figure(figsize=(8 * n_cols, 5 * n_rows))\n",
        "    i=1\n",
        "    for degree in degree_ranges:\n",
        "        poly = PolynomialFeatures(degree = degree)\n",
        "        X_train_poly = poly.fit_transform(X_train)\n",
        "        X_test_poly = poly.fit_transform(X_test)\n",
        "\n",
        "        poly.fit(X_train_poly, y_train)\n",
        "        pm = LinearRegression()\n",
        "        pm.fit(X_train_poly, y_train)\n",
        "        rsq_train=pm.score(X_train_poly, y_train) # R-squared\n",
        "        rsq_test=pm.score(X_test_poly, y_test) # R-squared\n",
        "        print(f'degree = {degree}: R_square (train) = {rsq_train:.4f}, (test) = {rsq_test:.4f}')\n",
        "#         print(pm.coef_)\n",
        "        \n",
        "        fig.add_subplot(n_rows, n_cols, i)\n",
        "        y_pred=pm.predict(poly.fit_transform(X))\n",
        "        plt.scatter(X, y, color = 'green', alpha=.2)\n",
        "        plt.plot(X, y_pred, color = 'red', alpha=.5)\n",
        "        plt.title(f'Polynomial Regression: degree={degree}, R_sq={rsq_train:.4f}')\n",
        "        plt.xlabel(x_col)\n",
        "        plt.ylabel(y_col)\n",
        "        i += 1\n",
        "#     plt.show()\n",
        "\n",
        "plots(range(1, 7))"
      ],
      "metadata": {
        "id": "wznDvoENF6cE",
        "outputId": "2a73ec4a-5f1a-46dd-b54e-867ad1fbda8f",
        "colab": {
          "base_uri": "https://localhost:8080/",
          "height": 724
        }
      },
      "execution_count": 64,
      "outputs": [
        {
          "output_type": "stream",
          "name": "stdout",
          "text": [
            "degree = 1: R_square (train) = 0.4353, (test) = 0.5856\n",
            "degree = 2: R_square (train) = 0.9448, (test) = 0.9491\n",
            "degree = 3: R_square (train) = 0.9641, (test) = 0.9814\n",
            "degree = 4: R_square (train) = 0.9644, (test) = 0.9815\n",
            "degree = 5: R_square (train) = 0.9647, (test) = 0.9817\n",
            "degree = 6: R_square (train) = 0.9649, (test) = 0.9819\n"
          ]
        },
        {
          "output_type": "display_data",
          "data": {
            "text/plain": [
              "<Figure size 1728x720 with 6 Axes>"
            ],
            "image/png": "[encoded data removed]"
          },
          "metadata": {
            "image/png": {
              "width": 1394,
              "height": 603
            },
            "needs_background": "light"
          }
        }
      ]
    },
    {
      "cell_type": "code",
      "source": [
        "dt=X_train.copy()\n",
        "dt[y_col]=y_train\n",
        "dt[:5]"
      ],
      "metadata": {
        "id": "mCpoDq26GAB2",
        "outputId": "c8b505ae-2592-4005-96a2-7970a76bc2fa",
        "colab": {
          "base_uri": "https://localhost:8080/",
          "height": 206
        }
      },
      "execution_count": 65,
      "outputs": [
        {
          "output_type": "execute_result",
          "data": {
            "text/plain": [
              "       year  Death rate, crude (per 1,000 people)\n",
              "14019  1996                                 6.465\n",
              "14023  2000                                 6.877\n",
              "14007  1984                                 6.367\n",
              "13993  1970                                10.072\n",
              "14034  2011                                 7.213"
            ],
            "text/html": [
              "\n",
              "  <div id=\"df-d7fbb9b9-0372-4ba5-a41a-4b00e8893951\">\n",
              "    <div class=\"colab-df-container\">\n",
              "      <div>\n",
              "<style scoped>\n",
              "    .dataframe tbody tr th:only-of-type {\n",
              "        vertical-align: middle;\n",
              "    }\n",
              "\n",
              "    .dataframe tbody tr th {\n",
              "        vertical-align: top;\n",
              "    }\n",
              "\n",
              "    .dataframe thead th {\n",
              "        text-align: right;\n",
              "    }\n",
              "</style>\n",
              "<table border=\"1\" class=\"dataframe\">\n",
              "  <thead>\n",
              "    <tr style=\"text-align: right;\">\n",
              "      <th></th>\n",
              "      <th>year</th>\n",
              "      <th>Death rate, crude (per 1,000 people)</th>\n",
              "    </tr>\n",
              "  </thead>\n",
              "  <tbody>\n",
              "    <tr>\n",
              "      <th>14019</th>\n",
              "      <td>1996</td>\n",
              "      <td>6.465</td>\n",
              "    </tr>\n",
              "    <tr>\n",
              "      <th>14023</th>\n",
              "      <td>2000</td>\n",
              "      <td>6.877</td>\n",
              "    </tr>\n",
              "    <tr>\n",
              "      <th>14007</th>\n",
              "      <td>1984</td>\n",
              "      <td>6.367</td>\n",
              "    </tr>\n",
              "    <tr>\n",
              "      <th>13993</th>\n",
              "      <td>1970</td>\n",
              "      <td>10.072</td>\n",
              "    </tr>\n",
              "    <tr>\n",
              "      <th>14034</th>\n",
              "      <td>2011</td>\n",
              "      <td>7.213</td>\n",
              "    </tr>\n",
              "  </tbody>\n",
              "</table>\n",
              "</div>\n",
              "      <button class=\"colab-df-convert\" onclick=\"convertToInteractive('df-d7fbb9b9-0372-4ba5-a41a-4b00e8893951')\"\n",
              "              title=\"Convert this dataframe to an interactive table.\"\n",
              "              style=\"display:none;\">\n",
              "        \n",
              "  <svg xmlns=\"http://www.w3.org/2000/svg\" height=\"24px\"viewBox=\"0 0 24 24\"\n",
              "       width=\"24px\">\n",
              "    <path d=\"M0 0h24v24H0V0z\" fill=\"none\"/>\n",
              "    <path d=\"M18.56 5.44l.94 2.06.94-2.06 2.06-.94-2.06-.94-.94-2.06-.94 2.06-2.06.94zm-11 1L8.5 8.5l.94-2.06 2.06-.94-2.06-.94L8.5 2.5l-.94 2.06-2.06.94zm10 10l.94 2.06.94-2.06 2.06-.94-2.06-.94-.94-2.06-.94 2.06-2.06.94z\"/><path d=\"M17.41 7.96l-1.37-1.37c-.4-.4-.92-.59-1.43-.59-.52 0-1.04.2-1.43.59L10.3 9.45l-7.72 7.72c-.78.78-.78 2.05 0 2.83L4 21.41c.39.39.9.59 1.41.59.51 0 1.02-.2 1.41-.59l7.78-7.78 2.81-2.81c.8-.78.8-2.07 0-2.86zM5.41 20L4 18.59l7.72-7.72 1.47 1.35L5.41 20z\"/>\n",
              "  </svg>\n",
              "      </button>\n",
              "      \n",
              "  <style>\n",
              "    .colab-df-container {\n",
              "      display:flex;\n",
              "      flex-wrap:wrap;\n",
              "      gap: 12px;\n",
              "    }\n",
              "\n",
              "    .colab-df-convert {\n",
              "      background-color: #E8F0FE;\n",
              "      border: none;\n",
              "      border-radius: 50%;\n",
              "      cursor: pointer;\n",
              "      display: none;\n",
              "      fill: #1967D2;\n",
              "      height: 32px;\n",
              "      padding: 0 0 0 0;\n",
              "      width: 32px;\n",
              "    }\n",
              "\n",
              "    .colab-df-convert:hover {\n",
              "      background-color: #E2EBFA;\n",
              "      box-shadow: 0px 1px 2px rgba(60, 64, 67, 0.3), 0px 1px 3px 1px rgba(60, 64, 67, 0.15);\n",
              "      fill: #174EA6;\n",
              "    }\n",
              "\n",
              "    [theme=dark] .colab-df-convert {\n",
              "      background-color: #3B4455;\n",
              "      fill: #D2E3FC;\n",
              "    }\n",
              "\n",
              "    [theme=dark] .colab-df-convert:hover {\n",
              "      background-color: #434B5C;\n",
              "      box-shadow: 0px 1px 3px 1px rgba(0, 0, 0, 0.15);\n",
              "      filter: drop-shadow(0px 1px 2px rgba(0, 0, 0, 0.3));\n",
              "      fill: #FFFFFF;\n",
              "    }\n",
              "  </style>\n",
              "\n",
              "      <script>\n",
              "        const buttonEl =\n",
              "          document.querySelector('#df-d7fbb9b9-0372-4ba5-a41a-4b00e8893951 button.colab-df-convert');\n",
              "        buttonEl.style.display =\n",
              "          google.colab.kernel.accessAllowed ? 'block' : 'none';\n",
              "\n",
              "        async function convertToInteractive(key) {\n",
              "          const element = document.querySelector('#df-d7fbb9b9-0372-4ba5-a41a-4b00e8893951');\n",
              "          const dataTable =\n",
              "            await google.colab.kernel.invokeFunction('convertToInteractive',\n",
              "                                                     [key], {});\n",
              "          if (!dataTable) return;\n",
              "\n",
              "          const docLinkHtml = 'Like what you see? Visit the ' +\n",
              "            '<a target=\"_blank\" href=https://colab.research.google.com/notebooks/data_table.ipynb>data table notebook</a>'\n",
              "            + ' to learn more about interactive tables.';\n",
              "          element.innerHTML = '';\n",
              "          dataTable['output_type'] = 'display_data';\n",
              "          await google.colab.output.renderOutput(dataTable, element);\n",
              "          const docLink = document.createElement('div');\n",
              "          docLink.innerHTML = docLinkHtml;\n",
              "          element.appendChild(docLink);\n",
              "        }\n",
              "      </script>\n",
              "    </div>\n",
              "  </div>\n",
              "  "
            ]
          },
          "metadata": {},
          "execution_count": 65
        }
      ]
    },
    {
      "cell_type": "code",
      "source": [
        "dt.columns=['year', 'death_rate']"
      ],
      "metadata": {
        "id": "szC7Iv2xGCT0"
      },
      "execution_count": 66,
      "outputs": []
    },
    {
      "cell_type": "code",
      "source": [
        "import statsmodels.formula.api as smf"
      ],
      "metadata": {
        "id": "1MpYd_0FGFNW"
      },
      "execution_count": 67,
      "outputs": []
    },
    {
      "cell_type": "code",
      "source": [
        "formula = 'death_rate ~ year + I(year**2)'\n",
        "# formula = 'death_rate ~ year + I(year**2) + I(year**3)'\n",
        "model1 = smf.ols(formula=formula, data=dt)\n",
        "model1_fit=model1.fit()"
      ],
      "metadata": {
        "id": "k7ry_2jJGHOD"
      },
      "execution_count": 68,
      "outputs": []
    },
    {
      "cell_type": "code",
      "source": [
        "model1_fit.summary()"
      ],
      "metadata": {
        "id": "5cM39XAhGJJ0",
        "outputId": "84b11c50-511f-4240-8f72-e55c8fb0e4a0",
        "colab": {
          "base_uri": "https://localhost:8080/",
          "height": 508
        }
      },
      "execution_count": 69,
      "outputs": [
        {
          "output_type": "execute_result",
          "data": {
            "text/plain": [
              "<class 'statsmodels.iolib.summary.Summary'>\n",
              "\"\"\"\n",
              "                            OLS Regression Results                            \n",
              "==============================================================================\n",
              "Dep. Variable:             death_rate   R-squared:                       0.945\n",
              "Model:                            OLS   Adj. R-squared:                  0.942\n",
              "Method:                 Least Squares   F-statistic:                     376.8\n",
              "Date:                Fri, 20 Jan 2023   Prob (F-statistic):           2.08e-28\n",
              "Time:                        16:23:22   Log-Likelihood:                -30.931\n",
              "No. Observations:                  47   AIC:                             67.86\n",
              "Df Residuals:                      44   BIC:                             73.41\n",
              "Df Model:                           2                                         \n",
              "Covariance Type:            nonrobust                                         \n",
              "================================================================================\n",
              "                   coef    std err          t      P>|t|      [0.025      0.975]\n",
              "--------------------------------------------------------------------------------\n",
              "Intercept     2.162e+04   1064.573     20.308      0.000    1.95e+04    2.38e+04\n",
              "year           -21.6491      1.070    -20.230      0.000     -23.806     -19.492\n",
              "I(year ** 2)     0.0054      0.000     20.158      0.000       0.005       0.006\n",
              "==============================================================================\n",
              "Omnibus:                        2.525   Durbin-Watson:                   1.803\n",
              "Prob(Omnibus):                  0.283   Jarque-Bera (JB):                1.767\n",
              "Skew:                           0.272   Prob(JB):                        0.413\n",
              "Kurtosis:                       2.222   Cond. No.                     5.98e+10\n",
              "==============================================================================\n",
              "\n",
              "Notes:\n",
              "[1] Standard Errors assume that the covariance matrix of the errors is correctly specified.\n",
              "[2] The condition number is large, 5.98e+10. This might indicate that there are\n",
              "strong multicollinearity or other numerical problems.\n",
              "\"\"\""
            ],
            "text/html": [
              "<table class=\"simpletable\">\n",
              "<caption>OLS Regression Results</caption>\n",
              "<tr>\n",
              "  <th>Dep. Variable:</th>       <td>death_rate</td>    <th>  R-squared:         </th> <td>   0.945</td>\n",
              "</tr>\n",
              "<tr>\n",
              "  <th>Model:</th>                   <td>OLS</td>       <th>  Adj. R-squared:    </th> <td>   0.942</td>\n",
              "</tr>\n",
              "<tr>\n",
              "  <th>Method:</th>             <td>Least Squares</td>  <th>  F-statistic:       </th> <td>   376.8</td>\n",
              "</tr>\n",
              "<tr>\n",
              "  <th>Date:</th>             <td>Fri, 20 Jan 2023</td> <th>  Prob (F-statistic):</th> <td>2.08e-28</td>\n",
              "</tr>\n",
              "<tr>\n",
              "  <th>Time:</th>                 <td>16:23:22</td>     <th>  Log-Likelihood:    </th> <td> -30.931</td>\n",
              "</tr>\n",
              "<tr>\n",
              "  <th>No. Observations:</th>      <td>    47</td>      <th>  AIC:               </th> <td>   67.86</td>\n",
              "</tr>\n",
              "<tr>\n",
              "  <th>Df Residuals:</th>          <td>    44</td>      <th>  BIC:               </th> <td>   73.41</td>\n",
              "</tr>\n",
              "<tr>\n",
              "  <th>Df Model:</th>              <td>     2</td>      <th>                     </th>     <td> </td>   \n",
              "</tr>\n",
              "<tr>\n",
              "  <th>Covariance Type:</th>      <td>nonrobust</td>    <th>                     </th>     <td> </td>   \n",
              "</tr>\n",
              "</table>\n",
              "<table class=\"simpletable\">\n",
              "<tr>\n",
              "        <td></td>          <th>coef</th>     <th>std err</th>      <th>t</th>      <th>P>|t|</th>  <th>[0.025</th>    <th>0.975]</th>  \n",
              "</tr>\n",
              "<tr>\n",
              "  <th>Intercept</th>    <td> 2.162e+04</td> <td> 1064.573</td> <td>   20.308</td> <td> 0.000</td> <td> 1.95e+04</td> <td> 2.38e+04</td>\n",
              "</tr>\n",
              "<tr>\n",
              "  <th>year</th>         <td>  -21.6491</td> <td>    1.070</td> <td>  -20.230</td> <td> 0.000</td> <td>  -23.806</td> <td>  -19.492</td>\n",
              "</tr>\n",
              "<tr>\n",
              "  <th>I(year ** 2)</th> <td>    0.0054</td> <td>    0.000</td> <td>   20.158</td> <td> 0.000</td> <td>    0.005</td> <td>    0.006</td>\n",
              "</tr>\n",
              "</table>\n",
              "<table class=\"simpletable\">\n",
              "<tr>\n",
              "  <th>Omnibus:</th>       <td> 2.525</td> <th>  Durbin-Watson:     </th> <td>   1.803</td>\n",
              "</tr>\n",
              "<tr>\n",
              "  <th>Prob(Omnibus):</th> <td> 0.283</td> <th>  Jarque-Bera (JB):  </th> <td>   1.767</td>\n",
              "</tr>\n",
              "<tr>\n",
              "  <th>Skew:</th>          <td> 0.272</td> <th>  Prob(JB):          </th> <td>   0.413</td>\n",
              "</tr>\n",
              "<tr>\n",
              "  <th>Kurtosis:</th>      <td> 2.222</td> <th>  Cond. No.          </th> <td>5.98e+10</td>\n",
              "</tr>\n",
              "</table><br/><br/>Notes:<br/>[1] Standard Errors assume that the covariance matrix of the errors is correctly specified.<br/>[2] The condition number is large, 5.98e+10. This might indicate that there are<br/>strong multicollinearity or other numerical problems."
            ]
          },
          "metadata": {},
          "execution_count": 69
        }
      ]
    },
    {
      "cell_type": "code",
      "source": [
        "pm.intercept_"
      ],
      "metadata": {
        "id": "cy__rHxPGKgJ",
        "outputId": "36297d38-eb0d-48e1-8b0f-e323513cb678",
        "colab": {
          "base_uri": "https://localhost:8080/"
        }
      },
      "execution_count": 70,
      "outputs": [
        {
          "output_type": "execute_result",
          "data": {
            "text/plain": [
              "21619.43539756367"
            ]
          },
          "metadata": {},
          "execution_count": 70
        }
      ]
    },
    {
      "cell_type": "code",
      "source": [
        "pm.coef_"
      ],
      "metadata": {
        "id": "i9b4s-MnGLoL",
        "outputId": "83811b45-3881-4a0b-f5e9-8717db64795e",
        "colab": {
          "base_uri": "https://localhost:8080/"
        }
      },
      "execution_count": 71,
      "outputs": [
        {
          "output_type": "execute_result",
          "data": {
            "text/plain": [
              "array([ 0.00000000e+00, -2.16491346e+01,  5.42121601e-03])"
            ]
          },
          "metadata": {},
          "execution_count": 71
        }
      ]
    },
    {
      "cell_type": "code",
      "source": [
        "pm.score(X_train_poly, y_train) # R-squared"
      ],
      "metadata": {
        "id": "41iGbagrGNEE",
        "outputId": "7026118c-67e7-4391-e98e-22fbd155c955",
        "colab": {
          "base_uri": "https://localhost:8080/"
        }
      },
      "execution_count": 72,
      "outputs": [
        {
          "output_type": "execute_result",
          "data": {
            "text/plain": [
              "0.9448282949367037"
            ]
          },
          "metadata": {},
          "execution_count": 72
        }
      ]
    },
    {
      "cell_type": "code",
      "source": [
        "X_train[:5]"
      ],
      "metadata": {
        "id": "vCirxbVgGOT6",
        "outputId": "e0dc2cc6-644a-449a-853e-bbb28d3613a1",
        "colab": {
          "base_uri": "https://localhost:8080/",
          "height": 206
        }
      },
      "execution_count": 73,
      "outputs": [
        {
          "output_type": "execute_result",
          "data": {
            "text/plain": [
              "       year\n",
              "14019  1996\n",
              "14023  2000\n",
              "14007  1984\n",
              "13993  1970\n",
              "14034  2011"
            ],
            "text/html": [
              "\n",
              "  <div id=\"df-01fdf2be-c210-4b76-bb8d-ff8d0e7c2fba\">\n",
              "    <div class=\"colab-df-container\">\n",
              "      <div>\n",
              "<style scoped>\n",
              "    .dataframe tbody tr th:only-of-type {\n",
              "        vertical-align: middle;\n",
              "    }\n",
              "\n",
              "    .dataframe tbody tr th {\n",
              "        vertical-align: top;\n",
              "    }\n",
              "\n",
              "    .dataframe thead th {\n",
              "        text-align: right;\n",
              "    }\n",
              "</style>\n",
              "<table border=\"1\" class=\"dataframe\">\n",
              "  <thead>\n",
              "    <tr style=\"text-align: right;\">\n",
              "      <th></th>\n",
              "      <th>year</th>\n",
              "    </tr>\n",
              "  </thead>\n",
              "  <tbody>\n",
              "    <tr>\n",
              "      <th>14019</th>\n",
              "      <td>1996</td>\n",
              "    </tr>\n",
              "    <tr>\n",
              "      <th>14023</th>\n",
              "      <td>2000</td>\n",
              "    </tr>\n",
              "    <tr>\n",
              "      <th>14007</th>\n",
              "      <td>1984</td>\n",
              "    </tr>\n",
              "    <tr>\n",
              "      <th>13993</th>\n",
              "      <td>1970</td>\n",
              "    </tr>\n",
              "    <tr>\n",
              "      <th>14034</th>\n",
              "      <td>2011</td>\n",
              "    </tr>\n",
              "  </tbody>\n",
              "</table>\n",
              "</div>\n",
              "      <button class=\"colab-df-convert\" onclick=\"convertToInteractive('df-01fdf2be-c210-4b76-bb8d-ff8d0e7c2fba')\"\n",
              "              title=\"Convert this dataframe to an interactive table.\"\n",
              "              style=\"display:none;\">\n",
              "        \n",
              "  <svg xmlns=\"http://www.w3.org/2000/svg\" height=\"24px\"viewBox=\"0 0 24 24\"\n",
              "       width=\"24px\">\n",
              "    <path d=\"M0 0h24v24H0V0z\" fill=\"none\"/>\n",
              "    <path d=\"M18.56 5.44l.94 2.06.94-2.06 2.06-.94-2.06-.94-.94-2.06-.94 2.06-2.06.94zm-11 1L8.5 8.5l.94-2.06 2.06-.94-2.06-.94L8.5 2.5l-.94 2.06-2.06.94zm10 10l.94 2.06.94-2.06 2.06-.94-2.06-.94-.94-2.06-.94 2.06-2.06.94z\"/><path d=\"M17.41 7.96l-1.37-1.37c-.4-.4-.92-.59-1.43-.59-.52 0-1.04.2-1.43.59L10.3 9.45l-7.72 7.72c-.78.78-.78 2.05 0 2.83L4 21.41c.39.39.9.59 1.41.59.51 0 1.02-.2 1.41-.59l7.78-7.78 2.81-2.81c.8-.78.8-2.07 0-2.86zM5.41 20L4 18.59l7.72-7.72 1.47 1.35L5.41 20z\"/>\n",
              "  </svg>\n",
              "      </button>\n",
              "      \n",
              "  <style>\n",
              "    .colab-df-container {\n",
              "      display:flex;\n",
              "      flex-wrap:wrap;\n",
              "      gap: 12px;\n",
              "    }\n",
              "\n",
              "    .colab-df-convert {\n",
              "      background-color: #E8F0FE;\n",
              "      border: none;\n",
              "      border-radius: 50%;\n",
              "      cursor: pointer;\n",
              "      display: none;\n",
              "      fill: #1967D2;\n",
              "      height: 32px;\n",
              "      padding: 0 0 0 0;\n",
              "      width: 32px;\n",
              "    }\n",
              "\n",
              "    .colab-df-convert:hover {\n",
              "      background-color: #E2EBFA;\n",
              "      box-shadow: 0px 1px 2px rgba(60, 64, 67, 0.3), 0px 1px 3px 1px rgba(60, 64, 67, 0.15);\n",
              "      fill: #174EA6;\n",
              "    }\n",
              "\n",
              "    [theme=dark] .colab-df-convert {\n",
              "      background-color: #3B4455;\n",
              "      fill: #D2E3FC;\n",
              "    }\n",
              "\n",
              "    [theme=dark] .colab-df-convert:hover {\n",
              "      background-color: #434B5C;\n",
              "      box-shadow: 0px 1px 3px 1px rgba(0, 0, 0, 0.15);\n",
              "      filter: drop-shadow(0px 1px 2px rgba(0, 0, 0, 0.3));\n",
              "      fill: #FFFFFF;\n",
              "    }\n",
              "  </style>\n",
              "\n",
              "      <script>\n",
              "        const buttonEl =\n",
              "          document.querySelector('#df-01fdf2be-c210-4b76-bb8d-ff8d0e7c2fba button.colab-df-convert');\n",
              "        buttonEl.style.display =\n",
              "          google.colab.kernel.accessAllowed ? 'block' : 'none';\n",
              "\n",
              "        async function convertToInteractive(key) {\n",
              "          const element = document.querySelector('#df-01fdf2be-c210-4b76-bb8d-ff8d0e7c2fba');\n",
              "          const dataTable =\n",
              "            await google.colab.kernel.invokeFunction('convertToInteractive',\n",
              "                                                     [key], {});\n",
              "          if (!dataTable) return;\n",
              "\n",
              "          const docLinkHtml = 'Like what you see? Visit the ' +\n",
              "            '<a target=\"_blank\" href=https://colab.research.google.com/notebooks/data_table.ipynb>data table notebook</a>'\n",
              "            + ' to learn more about interactive tables.';\n",
              "          element.innerHTML = '';\n",
              "          dataTable['output_type'] = 'display_data';\n",
              "          await google.colab.output.renderOutput(dataTable, element);\n",
              "          const docLink = document.createElement('div');\n",
              "          docLink.innerHTML = docLinkHtml;\n",
              "          element.appendChild(docLink);\n",
              "        }\n",
              "      </script>\n",
              "    </div>\n",
              "  </div>\n",
              "  "
            ]
          },
          "metadata": {},
          "execution_count": 73
        }
      ]
    },
    {
      "cell_type": "code",
      "source": [
        "model1.exog[:5]"
      ],
      "metadata": {
        "id": "JQ1GXAINGPan",
        "outputId": "4da1c02d-2f47-4c9c-8c68-d731888dfd14",
        "colab": {
          "base_uri": "https://localhost:8080/"
        }
      },
      "execution_count": 74,
      "outputs": [
        {
          "output_type": "execute_result",
          "data": {
            "text/plain": [
              "array([[1.000000e+00, 1.996000e+03, 3.984016e+06],\n",
              "       [1.000000e+00, 2.000000e+03, 4.000000e+06],\n",
              "       [1.000000e+00, 1.984000e+03, 3.936256e+06],\n",
              "       [1.000000e+00, 1.970000e+03, 3.880900e+06],\n",
              "       [1.000000e+00, 2.011000e+03, 4.044121e+06]])"
            ]
          },
          "metadata": {},
          "execution_count": 74
        }
      ]
    },
    {
      "cell_type": "code",
      "source": [
        "X_train_poly[:5]"
      ],
      "metadata": {
        "id": "loJKv2FqGQsr",
        "outputId": "0f822b78-8351-4d75-855f-ef67c4967438",
        "colab": {
          "base_uri": "https://localhost:8080/"
        }
      },
      "execution_count": 75,
      "outputs": [
        {
          "output_type": "execute_result",
          "data": {
            "text/plain": [
              "array([[1.000000e+00, 1.996000e+03, 3.984016e+06],\n",
              "       [1.000000e+00, 2.000000e+03, 4.000000e+06],\n",
              "       [1.000000e+00, 1.984000e+03, 3.936256e+06],\n",
              "       [1.000000e+00, 1.970000e+03, 3.880900e+06],\n",
              "       [1.000000e+00, 2.011000e+03, 4.044121e+06]])"
            ]
          },
          "metadata": {},
          "execution_count": 75
        }
      ]
    },
    {
      "cell_type": "code",
      "source": [
        "model1_fit.predict(dt['year'][:5])"
      ],
      "metadata": {
        "id": "9LdU0dTsGR-c",
        "outputId": "671a37c1-6459-473a-c762-7048b473b645",
        "colab": {
          "base_uri": "https://localhost:8080/"
        }
      },
      "execution_count": 76,
      "outputs": [
        {
          "output_type": "execute_result",
          "data": {
            "text/plain": [
              "14019    5.974125\n",
              "14023    6.030303\n",
              "14007    6.846463\n",
              "13993    9.837513\n",
              "14034    7.079295\n",
              "dtype: float64"
            ]
          },
          "metadata": {},
          "execution_count": 76
        }
      ]
    },
    {
      "cell_type": "code",
      "source": [
        "pm.predict(X_train_poly[:5])"
      ],
      "metadata": {
        "id": "oARlF2c3GTUa",
        "outputId": "8179a30c-20a5-47b3-b96b-17530218ef55",
        "colab": {
          "base_uri": "https://localhost:8080/"
        }
      },
      "execution_count": 77,
      "outputs": [
        {
          "output_type": "execute_result",
          "data": {
            "text/plain": [
              "array([5.97412483, 6.0303033 , 6.84646291, 9.83751329, 7.07929472])"
            ]
          },
          "metadata": {},
          "execution_count": 77
        }
      ]
    },
    {
      "cell_type": "code",
      "source": [
        "import statsmodels.api as sm\n",
        "\n",
        "model2 = sm.OLS(y_train, X_train_poly)\n",
        "\n",
        "model2_fit=model2.fit()\n",
        "model2_fit.summary()"
      ],
      "metadata": {
        "id": "PFQ26BHpGVpn",
        "outputId": "1ef87a93-dcc4-41c6-f5ff-895b5667d9bf",
        "colab": {
          "base_uri": "https://localhost:8080/",
          "height": 508
        }
      },
      "execution_count": 78,
      "outputs": [
        {
          "output_type": "execute_result",
          "data": {
            "text/plain": [
              "<class 'statsmodels.iolib.summary.Summary'>\n",
              "\"\"\"\n",
              "                                     OLS Regression Results                                     \n",
              "================================================================================================\n",
              "Dep. Variable:     Death rate, crude (per 1,000 people)   R-squared:                       0.945\n",
              "Model:                                              OLS   Adj. R-squared:                  0.942\n",
              "Method:                                   Least Squares   F-statistic:                     376.8\n",
              "Date:                                  Fri, 20 Jan 2023   Prob (F-statistic):           2.08e-28\n",
              "Time:                                          16:23:23   Log-Likelihood:                -30.931\n",
              "No. Observations:                                    47   AIC:                             67.86\n",
              "Df Residuals:                                        44   BIC:                             73.41\n",
              "Df Model:                                             2                                         \n",
              "Covariance Type:                              nonrobust                                         \n",
              "==============================================================================\n",
              "                 coef    std err          t      P>|t|      [0.025      0.975]\n",
              "------------------------------------------------------------------------------\n",
              "const       2.162e+04   1064.573     20.308      0.000    1.95e+04    2.38e+04\n",
              "x1           -21.6491      1.070    -20.230      0.000     -23.806     -19.492\n",
              "x2             0.0054      0.000     20.158      0.000       0.005       0.006\n",
              "==============================================================================\n",
              "Omnibus:                        2.525   Durbin-Watson:                   1.803\n",
              "Prob(Omnibus):                  0.283   Jarque-Bera (JB):                1.767\n",
              "Skew:                           0.272   Prob(JB):                        0.413\n",
              "Kurtosis:                       2.222   Cond. No.                     5.98e+10\n",
              "==============================================================================\n",
              "\n",
              "Notes:\n",
              "[1] Standard Errors assume that the covariance matrix of the errors is correctly specified.\n",
              "[2] The condition number is large, 5.98e+10. This might indicate that there are\n",
              "strong multicollinearity or other numerical problems.\n",
              "\"\"\""
            ],
            "text/html": [
              "<table class=\"simpletable\">\n",
              "<caption>OLS Regression Results</caption>\n",
              "<tr>\n",
              "  <th>Dep. Variable:</th>    <td>Death rate, crude (per 1,000 people)</td> <th>  R-squared:         </th> <td>   0.945</td>\n",
              "</tr>\n",
              "<tr>\n",
              "  <th>Model:</th>                             <td>OLS</td>                 <th>  Adj. R-squared:    </th> <td>   0.942</td>\n",
              "</tr>\n",
              "<tr>\n",
              "  <th>Method:</th>                       <td>Least Squares</td>            <th>  F-statistic:       </th> <td>   376.8</td>\n",
              "</tr>\n",
              "<tr>\n",
              "  <th>Date:</th>                       <td>Fri, 20 Jan 2023</td>           <th>  Prob (F-statistic):</th> <td>2.08e-28</td>\n",
              "</tr>\n",
              "<tr>\n",
              "  <th>Time:</th>                           <td>16:23:23</td>               <th>  Log-Likelihood:    </th> <td> -30.931</td>\n",
              "</tr>\n",
              "<tr>\n",
              "  <th>No. Observations:</th>                <td>    47</td>                <th>  AIC:               </th> <td>   67.86</td>\n",
              "</tr>\n",
              "<tr>\n",
              "  <th>Df Residuals:</th>                    <td>    44</td>                <th>  BIC:               </th> <td>   73.41</td>\n",
              "</tr>\n",
              "<tr>\n",
              "  <th>Df Model:</th>                        <td>     2</td>                <th>                     </th>     <td> </td>   \n",
              "</tr>\n",
              "<tr>\n",
              "  <th>Covariance Type:</th>                <td>nonrobust</td>              <th>                     </th>     <td> </td>   \n",
              "</tr>\n",
              "</table>\n",
              "<table class=\"simpletable\">\n",
              "<tr>\n",
              "    <td></td>       <th>coef</th>     <th>std err</th>      <th>t</th>      <th>P>|t|</th>  <th>[0.025</th>    <th>0.975]</th>  \n",
              "</tr>\n",
              "<tr>\n",
              "  <th>const</th> <td> 2.162e+04</td> <td> 1064.573</td> <td>   20.308</td> <td> 0.000</td> <td> 1.95e+04</td> <td> 2.38e+04</td>\n",
              "</tr>\n",
              "<tr>\n",
              "  <th>x1</th>    <td>  -21.6491</td> <td>    1.070</td> <td>  -20.230</td> <td> 0.000</td> <td>  -23.806</td> <td>  -19.492</td>\n",
              "</tr>\n",
              "<tr>\n",
              "  <th>x2</th>    <td>    0.0054</td> <td>    0.000</td> <td>   20.158</td> <td> 0.000</td> <td>    0.005</td> <td>    0.006</td>\n",
              "</tr>\n",
              "</table>\n",
              "<table class=\"simpletable\">\n",
              "<tr>\n",
              "  <th>Omnibus:</th>       <td> 2.525</td> <th>  Durbin-Watson:     </th> <td>   1.803</td>\n",
              "</tr>\n",
              "<tr>\n",
              "  <th>Prob(Omnibus):</th> <td> 0.283</td> <th>  Jarque-Bera (JB):  </th> <td>   1.767</td>\n",
              "</tr>\n",
              "<tr>\n",
              "  <th>Skew:</th>          <td> 0.272</td> <th>  Prob(JB):          </th> <td>   0.413</td>\n",
              "</tr>\n",
              "<tr>\n",
              "  <th>Kurtosis:</th>      <td> 2.222</td> <th>  Cond. No.          </th> <td>5.98e+10</td>\n",
              "</tr>\n",
              "</table><br/><br/>Notes:<br/>[1] Standard Errors assume that the covariance matrix of the errors is correctly specified.<br/>[2] The condition number is large, 5.98e+10. This might indicate that there are<br/>strong multicollinearity or other numerical problems."
            ]
          },
          "metadata": {},
          "execution_count": 78
        }
      ]
    },
    {
      "cell_type": "code",
      "source": [
        "model2_fit.predict(X_train_poly[:5])"
      ],
      "metadata": {
        "id": "fc-F37nVGXaJ",
        "outputId": "c6c4178a-0bc2-4276-f5dd-fe467d7695d9",
        "colab": {
          "base_uri": "https://localhost:8080/"
        }
      },
      "execution_count": 79,
      "outputs": [
        {
          "output_type": "execute_result",
          "data": {
            "text/plain": [
              "array([5.97412484, 6.0303033 , 6.84646292, 9.8375133 , 7.07929473])"
            ]
          },
          "metadata": {},
          "execution_count": 79
        }
      ]
    },
    {
      "cell_type": "code",
      "source": [
        "pm.predict(X_train_poly[:5])"
      ],
      "metadata": {
        "id": "oqFe2MB1GYvc",
        "outputId": "bafe6ca4-0a69-4dea-b5e5-6d5185ee26e6",
        "colab": {
          "base_uri": "https://localhost:8080/"
        }
      },
      "execution_count": 80,
      "outputs": [
        {
          "output_type": "execute_result",
          "data": {
            "text/plain": [
              "array([5.97412483, 6.0303033 , 6.84646291, 9.83751329, 7.07929472])"
            ]
          },
          "metadata": {},
          "execution_count": 80
        }
      ]
    },
    {
      "cell_type": "code",
      "source": [
        "model1_fit.predict(dt['year'][:5])"
      ],
      "metadata": {
        "id": "HWWLnc7hGaJj",
        "outputId": "0781732a-f0ab-4880-9ded-cbeb320f557e",
        "colab": {
          "base_uri": "https://localhost:8080/"
        }
      },
      "execution_count": 81,
      "outputs": [
        {
          "output_type": "execute_result",
          "data": {
            "text/plain": [
              "14019    5.974125\n",
              "14023    6.030303\n",
              "14007    6.846463\n",
              "13993    9.837513\n",
              "14034    7.079295\n",
              "dtype: float64"
            ]
          },
          "metadata": {},
          "execution_count": 81
        }
      ]
    }
  ],
  "metadata": {
    "colab": {
      "name": "Welcome To Colaboratory",
      "provenance": [],
      "include_colab_link": true
    },
    "kernelspec": {
      "display_name": "Python 3",
      "name": "python3"
    }
  },
  "nbformat": 4,
  "nbformat_minor": 0
}